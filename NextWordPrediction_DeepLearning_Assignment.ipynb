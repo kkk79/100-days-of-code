{
  "cells": [
    {
      "cell_type": "markdown",
      "metadata": {
        "id": "view-in-github",
        "colab_type": "text"
      },
      "source": [
        "<a href=\"https://colab.research.google.com/github/kkk79/100-days-of-code/blob/master/NextWordPrediction_DeepLearning_Assignment.ipynb\" target=\"_parent\"><img src=\"https://colab.research.google.com/assets/colab-badge.svg\" alt=\"Open In Colab\"/></a>"
      ]
    },
    {
      "cell_type": "markdown",
      "metadata": {
        "id": "vuf461UJEhrV"
      },
      "source": [
        "Next Word Prediction\n"
      ]
    },
    {
      "cell_type": "markdown",
      "metadata": {
        "id": "_T_ZTqZrE3gQ"
      },
      "source": [
        "In our multi-class classification problem, we will learn the relationships among our words and then provide probabilities as to which word should be next in our sequence. the model can only provide probabilities for words it has seen. \n",
        "We have used n-gram sequences and word embeddings to assist our model to learn the relationship between the words."
      ]
    },
    {
      "cell_type": "code",
      "execution_count": null,
      "metadata": {
        "colab": {
          "base_uri": "https://localhost:8080/"
        },
        "id": "TkexzACxCrki",
        "outputId": "f21f0004-6a9b-4d71-a051-ce697493b3ca"
      },
      "outputs": [
        {
          "output_type": "stream",
          "name": "stdout",
          "text": [
            "Mounted at /content/gdrive\n",
            "/content/gdrive/My Drive\n"
          ]
        }
      ],
      "source": [
        "# load the necessary libraries\n",
        "import pandas as pd\n",
        "import numpy as np\n",
        "from google.colab import drive\n",
        "import tensorflow as tf\n",
        "import string, os\n",
        "from keras import backend as K\n",
        "from tensorflow.keras.preprocessing.sequence import pad_sequences\n",
        "from keras.preprocessing.text import Tokenizer\n",
        "from tensorflow.keras.layers import Embedding, LSTM, Dense, Bidirectional\n",
        "from tensorflow.keras.preprocessing.text import Tokenizer\n",
        "from tensorflow.keras.models import Sequential, load_model\n",
        "from tensorflow.keras.optimizers import Adam\n",
        "from nltk.tokenize import RegexpTokenizer\n",
        "from keras.layers.core import Dense, Activation\n",
        "from sklearn.feature_extraction.text import CountVectorizer\n",
        "from sklearn.model_selection import train_test_split\n",
        "from keras.utils.np_utils import to_categorical\n",
        "import re\n",
        "\n",
        "\n",
        "\n",
        "\n",
        "# connect with google drive to fetch our dataset\n",
        "from google.colab import drive \n",
        "drive.mount('/content/gdrive')\n",
        "%cd '/content/gdrive/My Drive'\n"
      ]
    },
    {
      "cell_type": "markdown",
      "metadata": {
        "id": "w8-fxvbTEeuj"
      },
      "source": [
        "Our Dataset consists of lyrics from the 80's, extracted from kaggle. \n",
        "We have 231 songs in total."
      ]
    },
    {
      "cell_type": "code",
      "execution_count": null,
      "metadata": {
        "colab": {
          "base_uri": "https://localhost:8080/",
          "height": 372
        },
        "id": "sle8CxyfGNb-",
        "outputId": "4a6931ff-d380-4f88-a862-60dd536550e0"
      },
      "outputs": [
        {
          "output_type": "stream",
          "name": "stdout",
          "text": [
            "corpus length: 231\n"
          ]
        },
        {
          "output_type": "execute_result",
          "data": {
            "text/plain": [
              "   Unnamed: 0                  artist               date featured_artists  \\\n",
              "0           0  KC & the Sunshine Band    January 5, 1980               []   \n",
              "1           1         Michael Jackson   January 19, 1980               []   \n",
              "2           2      Captain & Tennille  February 16, 1980               []   \n",
              "3           3                   Queen  February 23, 1980               []   \n",
              "4           4              Pink Floyd     March 22, 1980               []   \n",
              "\n",
              "                                              lyrics  \\\n",
              "0  I love you Yeah Babe, I love you so I want you...   \n",
              "1  Girl, close your eyes Let that rhythm get into...   \n",
              "2  Do that to me one more time Once is never enou...   \n",
              "3  This thing called love I just can't handle it ...   \n",
              "4  We don't need no education We don't need no th...   \n",
              "\n",
              "                                 song             song_album  \\\n",
              "0                     Please Don't Go  Do You Wanna Go Party   \n",
              "1                       Rock with You           Off the Wall   \n",
              "2         Do That to Me One More Time         Make Your Move   \n",
              "3      Crazy Little Thing Called Love               The Game   \n",
              "4  Another Brick in the Wall (Part 2)               The Wall   \n",
              "\n",
              "                                            song_url year  \n",
              "0  https://genius.com/Kc-and-the-sunshine-band-pl...   5,  \n",
              "1  https://genius.com/Michael-jackson-rock-with-y...  19,  \n",
              "2  https://genius.com/Captain-and-tennille-do-tha...  16,  \n",
              "3  https://genius.com/Queen-crazy-little-thing-ca...  23,  \n",
              "4  https://genius.com/Pink-floyd-another-brick-in...  22,  "
            ],
            "text/html": [
              "\n",
              "  <div id=\"df-ae016a0c-42f2-47eb-ac67-dbd6e2761c4d\">\n",
              "    <div class=\"colab-df-container\">\n",
              "      <div>\n",
              "<style scoped>\n",
              "    .dataframe tbody tr th:only-of-type {\n",
              "        vertical-align: middle;\n",
              "    }\n",
              "\n",
              "    .dataframe tbody tr th {\n",
              "        vertical-align: top;\n",
              "    }\n",
              "\n",
              "    .dataframe thead th {\n",
              "        text-align: right;\n",
              "    }\n",
              "</style>\n",
              "<table border=\"1\" class=\"dataframe\">\n",
              "  <thead>\n",
              "    <tr style=\"text-align: right;\">\n",
              "      <th></th>\n",
              "      <th>Unnamed: 0</th>\n",
              "      <th>artist</th>\n",
              "      <th>date</th>\n",
              "      <th>featured_artists</th>\n",
              "      <th>lyrics</th>\n",
              "      <th>song</th>\n",
              "      <th>song_album</th>\n",
              "      <th>song_url</th>\n",
              "      <th>year</th>\n",
              "    </tr>\n",
              "  </thead>\n",
              "  <tbody>\n",
              "    <tr>\n",
              "      <th>0</th>\n",
              "      <td>0</td>\n",
              "      <td>KC &amp; the Sunshine Band</td>\n",
              "      <td>January 5, 1980</td>\n",
              "      <td>[]</td>\n",
              "      <td>I love you Yeah Babe, I love you so I want you...</td>\n",
              "      <td>Please Don't Go</td>\n",
              "      <td>Do You Wanna Go Party</td>\n",
              "      <td>https://genius.com/Kc-and-the-sunshine-band-pl...</td>\n",
              "      <td>5,</td>\n",
              "    </tr>\n",
              "    <tr>\n",
              "      <th>1</th>\n",
              "      <td>1</td>\n",
              "      <td>Michael Jackson</td>\n",
              "      <td>January 19, 1980</td>\n",
              "      <td>[]</td>\n",
              "      <td>Girl, close your eyes Let that rhythm get into...</td>\n",
              "      <td>Rock with You</td>\n",
              "      <td>Off the Wall</td>\n",
              "      <td>https://genius.com/Michael-jackson-rock-with-y...</td>\n",
              "      <td>19,</td>\n",
              "    </tr>\n",
              "    <tr>\n",
              "      <th>2</th>\n",
              "      <td>2</td>\n",
              "      <td>Captain &amp; Tennille</td>\n",
              "      <td>February 16, 1980</td>\n",
              "      <td>[]</td>\n",
              "      <td>Do that to me one more time Once is never enou...</td>\n",
              "      <td>Do That to Me One More Time</td>\n",
              "      <td>Make Your Move</td>\n",
              "      <td>https://genius.com/Captain-and-tennille-do-tha...</td>\n",
              "      <td>16,</td>\n",
              "    </tr>\n",
              "    <tr>\n",
              "      <th>3</th>\n",
              "      <td>3</td>\n",
              "      <td>Queen</td>\n",
              "      <td>February 23, 1980</td>\n",
              "      <td>[]</td>\n",
              "      <td>This thing called love I just can't handle it ...</td>\n",
              "      <td>Crazy Little Thing Called Love</td>\n",
              "      <td>The Game</td>\n",
              "      <td>https://genius.com/Queen-crazy-little-thing-ca...</td>\n",
              "      <td>23,</td>\n",
              "    </tr>\n",
              "    <tr>\n",
              "      <th>4</th>\n",
              "      <td>4</td>\n",
              "      <td>Pink Floyd</td>\n",
              "      <td>March 22, 1980</td>\n",
              "      <td>[]</td>\n",
              "      <td>We don't need no education We don't need no th...</td>\n",
              "      <td>Another Brick in the Wall (Part 2)</td>\n",
              "      <td>The Wall</td>\n",
              "      <td>https://genius.com/Pink-floyd-another-brick-in...</td>\n",
              "      <td>22,</td>\n",
              "    </tr>\n",
              "  </tbody>\n",
              "</table>\n",
              "</div>\n",
              "      <button class=\"colab-df-convert\" onclick=\"convertToInteractive('df-ae016a0c-42f2-47eb-ac67-dbd6e2761c4d')\"\n",
              "              title=\"Convert this dataframe to an interactive table.\"\n",
              "              style=\"display:none;\">\n",
              "        \n",
              "  <svg xmlns=\"http://www.w3.org/2000/svg\" height=\"24px\"viewBox=\"0 0 24 24\"\n",
              "       width=\"24px\">\n",
              "    <path d=\"M0 0h24v24H0V0z\" fill=\"none\"/>\n",
              "    <path d=\"M18.56 5.44l.94 2.06.94-2.06 2.06-.94-2.06-.94-.94-2.06-.94 2.06-2.06.94zm-11 1L8.5 8.5l.94-2.06 2.06-.94-2.06-.94L8.5 2.5l-.94 2.06-2.06.94zm10 10l.94 2.06.94-2.06 2.06-.94-2.06-.94-.94-2.06-.94 2.06-2.06.94z\"/><path d=\"M17.41 7.96l-1.37-1.37c-.4-.4-.92-.59-1.43-.59-.52 0-1.04.2-1.43.59L10.3 9.45l-7.72 7.72c-.78.78-.78 2.05 0 2.83L4 21.41c.39.39.9.59 1.41.59.51 0 1.02-.2 1.41-.59l7.78-7.78 2.81-2.81c.8-.78.8-2.07 0-2.86zM5.41 20L4 18.59l7.72-7.72 1.47 1.35L5.41 20z\"/>\n",
              "  </svg>\n",
              "      </button>\n",
              "      \n",
              "  <style>\n",
              "    .colab-df-container {\n",
              "      display:flex;\n",
              "      flex-wrap:wrap;\n",
              "      gap: 12px;\n",
              "    }\n",
              "\n",
              "    .colab-df-convert {\n",
              "      background-color: #E8F0FE;\n",
              "      border: none;\n",
              "      border-radius: 50%;\n",
              "      cursor: pointer;\n",
              "      display: none;\n",
              "      fill: #1967D2;\n",
              "      height: 32px;\n",
              "      padding: 0 0 0 0;\n",
              "      width: 32px;\n",
              "    }\n",
              "\n",
              "    .colab-df-convert:hover {\n",
              "      background-color: #E2EBFA;\n",
              "      box-shadow: 0px 1px 2px rgba(60, 64, 67, 0.3), 0px 1px 3px 1px rgba(60, 64, 67, 0.15);\n",
              "      fill: #174EA6;\n",
              "    }\n",
              "\n",
              "    [theme=dark] .colab-df-convert {\n",
              "      background-color: #3B4455;\n",
              "      fill: #D2E3FC;\n",
              "    }\n",
              "\n",
              "    [theme=dark] .colab-df-convert:hover {\n",
              "      background-color: #434B5C;\n",
              "      box-shadow: 0px 1px 3px 1px rgba(0, 0, 0, 0.15);\n",
              "      filter: drop-shadow(0px 1px 2px rgba(0, 0, 0, 0.3));\n",
              "      fill: #FFFFFF;\n",
              "    }\n",
              "  </style>\n",
              "\n",
              "      <script>\n",
              "        const buttonEl =\n",
              "          document.querySelector('#df-ae016a0c-42f2-47eb-ac67-dbd6e2761c4d button.colab-df-convert');\n",
              "        buttonEl.style.display =\n",
              "          google.colab.kernel.accessAllowed ? 'block' : 'none';\n",
              "\n",
              "        async function convertToInteractive(key) {\n",
              "          const element = document.querySelector('#df-ae016a0c-42f2-47eb-ac67-dbd6e2761c4d');\n",
              "          const dataTable =\n",
              "            await google.colab.kernel.invokeFunction('convertToInteractive',\n",
              "                                                     [key], {});\n",
              "          if (!dataTable) return;\n",
              "\n",
              "          const docLinkHtml = 'Like what you see? Visit the ' +\n",
              "            '<a target=\"_blank\" href=https://colab.research.google.com/notebooks/data_table.ipynb>data table notebook</a>'\n",
              "            + ' to learn more about interactive tables.';\n",
              "          element.innerHTML = '';\n",
              "          dataTable['output_type'] = 'display_data';\n",
              "          await google.colab.output.renderOutput(dataTable, element);\n",
              "          const docLink = document.createElement('div');\n",
              "          docLink.innerHTML = docLinkHtml;\n",
              "          element.appendChild(docLink);\n",
              "        }\n",
              "      </script>\n",
              "    </div>\n",
              "  </div>\n",
              "  "
            ]
          },
          "metadata": {},
          "execution_count": 2
        }
      ],
      "source": [
        "path = (\"/content/gdrive/My Drive/Colab Notebooks/80s_detailed(1).csv\")\n",
        "text = pd.read_csv(path)\n",
        "print('corpus length:', len(text))\n",
        "text.head()"
      ]
    },
    {
      "cell_type": "code",
      "execution_count": null,
      "metadata": {
        "colab": {
          "base_uri": "https://localhost:8080/"
        },
        "id": "Jc1tdZg6NCeA",
        "outputId": "95953290-3f9b-4e99-96b2-0980205a5c91"
      },
      "outputs": [
        {
          "output_type": "stream",
          "name": "stdout",
          "text": [
            "<class 'pandas.core.frame.DataFrame'>\n",
            "RangeIndex: 231 entries, 0 to 230\n",
            "Data columns (total 9 columns):\n",
            " #   Column            Non-Null Count  Dtype \n",
            "---  ------            --------------  ----- \n",
            " 0   Unnamed: 0        231 non-null    int64 \n",
            " 1   artist            231 non-null    object\n",
            " 2   date              231 non-null    object\n",
            " 3   featured_artists  216 non-null    object\n",
            " 4   lyrics            216 non-null    object\n",
            " 5   song              231 non-null    object\n",
            " 6   song_album        208 non-null    object\n",
            " 7   song_url          216 non-null    object\n",
            " 8   year              231 non-null    object\n",
            "dtypes: int64(1), object(8)\n",
            "memory usage: 16.4+ KB\n"
          ]
        },
        {
          "output_type": "execute_result",
          "data": {
            "text/plain": [
              "(231, 9)"
            ]
          },
          "metadata": {},
          "execution_count": 3
        }
      ],
      "source": [
        "text.info()\n",
        "text.shape"
      ]
    },
    {
      "cell_type": "markdown",
      "metadata": {
        "id": "YYXtoZdi6Fwt"
      },
      "source": [
        "216 unique characters\n"
      ]
    },
    {
      "cell_type": "code",
      "execution_count": null,
      "metadata": {
        "colab": {
          "base_uri": "https://localhost:8080/"
        },
        "id": "dWg0dQEPFpzu",
        "outputId": "bb4e1c97-52de-416c-b06e-a145ea93214c"
      },
      "outputs": [
        {
          "output_type": "stream",
          "name": "stdout",
          "text": [
            "Number of unique characters: 216\n"
          ]
        }
      ],
      "source": [
        "print(\"Number of unique characters:\", len(set(text['lyrics'])))\n"
      ]
    },
    {
      "cell_type": "markdown",
      "metadata": {
        "id": "0wzpW5tnaYqi"
      },
      "source": [
        "We only need the lyrics feature. Kept only the first 70 songs.\n",
        " Clean our dataset, by lowercasing the words - to avoid duplicated ones- , removing tags, punctuation, numbers and spaces"
      ]
    },
    {
      "cell_type": "code",
      "execution_count": null,
      "metadata": {
        "colab": {
          "base_uri": "https://localhost:8080/"
        },
        "id": "Zw897AfRXSg1",
        "outputId": "e6b872bf-1d35-421b-94cb-fc445d221602"
      },
      "outputs": [
        {
          "output_type": "execute_result",
          "data": {
            "text/plain": [
              "0     I love you Yeah Babe, I love you so I want you...\n",
              "1     Girl, close your eyes Let that rhythm get into...\n",
              "2     Do that to me one more time Once is never enou...\n",
              "3     This thing called love I just can't handle it ...\n",
              "4     We don't need no education We don't need no th...\n",
              "5     1898 A Trip to the Moon 1903 The Great Train R...\n",
              "6     {Intro} Gotta make a move to a town that's rig...\n",
              "7     You want a love to last forever One that will ...\n",
              "8     What's the matter with the clothes I'm wearing...\n",
              "9     Come take my hand You should know me I've alwa...\n",
              "10    Well, it's not far down to paradise At least i...\n",
              "11    I said, \"Upside down, you're turning me.\" You'...\n",
              "12    Ooh, let's go! Steve walks warily down the str...\n",
              "13    Life is a moment in space When the dream is go...\n",
              "14    Lady, I'm your knight in shining armor And I l...\n",
              "15    Our life together is so precious together We h...\n",
              "16    The tide is high but I'm holdin' on I'm gonna ...\n",
              "17    (This is your celebration) (This is your celeb...\n",
              "18    Tumble outta bed And stumble to the kitchen Po...\n",
              "19    Well, I love a rainy night I love a rainy nigh...\n",
              "20    You should've seen by the look in my eyes, bab...\n",
              "21    Toe to toe dancing very close Body breathing a...\n",
              "22    My friends wonder why I call you all the time,...\n",
              "23    I wake up every mornin', I stumble out of bed ...\n",
              "24                                                  nan\n",
              "25    You can boogie like disco, love that disco sou...\n",
              "26    Now the night has gone Now the night has gone ...\n",
              "27    Jessie is a friend Yeah, I know, he's been a g...\n",
              "28    My love There's only you in my life The only t...\n",
              "29    Once in your life you find her Someone that tu...\n",
              "30    I see you, you see me Watch you blowing the li...\n",
              "31                                                  nan\n",
              "32    Easy, ready, willing, overtime Where does it s...\n",
              "33    Come on! Does she walk? Does she talk? Does sh...\n",
              "34    I saw him dancin' there by the record machine ...\n",
              "35    Chariots of fire are on my way Chariots of fir...\n",
              "36                                                  nan\n",
              "37    You were workin' as a waitress in a cocktail b...\n",
              "38    Rising up, back on the street Did my time, too...\n",
              "39    I heat up, I can't cool down You got me spinni...\n",
              "40    Everybody needs a little time away I heard her...\n",
              "41    \"Jack and Diane,\" John Mellencamp \"Jackie Brow...\n",
              "42    Who can it be knocking at my door? Go 'way, do...\n",
              "43    Who knows what tomorrow brings In a world few ...\n",
              "44    Bathin’ Ape sweatsuit Cartier glasses I wish I...\n",
              "45    Oh Mickey You're so fine You're so fine You bl...\n",
              "46    She'll only come out at night The lean and hun...\n",
              "47    Traveling in a fried-out Kombi On a hippie tra...\n",
              "48    I hear the drums echoing tonight But she hears...\n",
              "49    Thinkin' back in time When love was only in my...\n",
              "Name: lyrics, dtype: object"
            ]
          },
          "metadata": {},
          "execution_count": 5
        }
      ],
      "source": [
        "text = text.astype(str)\n",
        "cor = text['lyrics'][:50]\n",
        "\n",
        "def clean_text(cor):\n",
        " \n",
        "#Remove punctuations and numbers\n",
        "  cor = re.sub(\"((\\S+)?(\\S+))|((\\S+)?(\\S+))|((\\S+)?(\\@)(\\S+)?)\", \" \", cor)\n",
        "  cor = re.sub(\"[^a-zA-Z]\", \" \", \"1-2\", \"(\", \")\", cor)\n",
        "# Single character removal\n",
        "  cor = re.sub(r\"\\s+[a-zA-Z]\\s+\", ' ', cor)\n",
        "# Removing multiple spaces\n",
        "  cor = re.sub(r'\\s+', ' ', cor)\n",
        "cor = cor.str.split().str.join(\" \")\n",
        "cor\n"
      ]
    },
    {
      "cell_type": "markdown",
      "metadata": {
        "id": "xvUrM-FriZjD"
      },
      "source": [
        "We combine all the lines of the lyrics into a joined text / a series of strings. \n",
        "\n"
      ]
    },
    {
      "cell_type": "code",
      "execution_count": null,
      "metadata": {
        "colab": {
          "base_uri": "https://localhost:8080/"
        },
        "id": "IsNpFUYiqXTA",
        "outputId": "2ec62390-34c4-41c9-fd4f-9223d45f34e9"
      },
      "outputs": [
        {
          "output_type": "stream",
          "name": "stdout",
          "text": [
            "I love you Yeah Babe, I love you so I want you to know That I'm gonna miss your love The minute you walk out that door So please don't go Don't go Don't go away Please don't go Don't go I'm begging you to stay If you leave, at least in my lifetime I've had one dream come true I was blessed to be loved By someone as wonderful as you So please don't go Don't go Don't go away Please don't go Don't go I'm begging you to stay Hey, hey, hey Yeah Babe, I love you so I, I want you to know That I'm gonna miss your love The minute you walk out that door So please don't go Don't go Don't go away Hey, hey, hey I need your love I'm down on my knees Beggin' please, please, please Don't go Don't you hear me, baby? Don't leave me now Oh, no, no, no, no Please don't go I want you to know That I, I, I love you so Please don't leave me, baby Please don't go\n",
            "Girl, close your eyes Let that rhythm get into you Don't try to fight it There ain't nothin' that you can do Relax your mind Lay back and groove with mine You gotta feel that heat And we can ride the boogie Share that beat of love I wanna rock with you (All night) Dance you into day (Sunlight) I wanna rock with you (All night) We're gonna rock the night away (Rock, right) Out on the floor There ain't nobody there but us Girl, when you dance There's a magic that must be love Just take it slow 'Cause we got so far to go When you feel that heat And we're gonna ride the boogie Share that beat of love I wanna rock with you (All night) Dance you into day (Sunlight) I wanna rock with you (All night) We're gonna rock the night away And when the groove is dead and gone (Yeah) You know that love survives So we can rock forever, on I wanna rock with you I wanna groove with you I wanna rock with you I wanna groove with you I wanna rock (All night) With you girl (Sunlight) Rock with you, rock with you girl (Yeah) (All night) Dance the night away I wanna rock with you (Yeah) (All night) Rock you into day (Sunlight) I wanna rock with you (All night) Rock the night away Feel the heat, feel the beat (All night) Rock you into day (Sunlight) I wanna rock (All night) Rock the night away\n",
            "Do that to me one more time Once is never enough with a man like you Do that to me one more time I can never get enough of a man like you Oh, kiss me like you just did Oh baby Do that to me once again Pass that by me one more time Once just isn't enough for my heart to hear Oh, tell it to me one more time I can never hear enough while I've got you near, oh Say those words again like you just did Oh baby Tell it to me once again Do that to me one more time Once is never enough with a man like you Woah, do that to me one more time I can never get enough of a man like you Oh kiss me like you just did Oh baby Do that to me once again Oh baby Do that to me once again Oh baby Do that to me one more time (Do it again) one more time (Do it again) one more time (Do it again) one more time (Do it again) one more time (Do it again) one more time (Do it again) one more time\n",
            "This thing called love I just can't handle it This thing called love I must get 'round to it, I ain't ready Crazy little thing called love A-this thing (This thing) called love (Called love) It cries (Like a baby) in a cradle all night It swings (Woo, woo), it jives (Woo, woo) It shakes all over like a jelly fish, woo, I kinda like it Crazy little thing called love There goes my baby She knows how to rock 'n' roll She drives me crazy She gives me hot and cold fever Then she leaves me in a cool, cool sweat I gotta be cool, relax, get hip And get on my tracks Take a back seat, hitch-hike And take a long ride on my motorbike until I'm ready Crazy little thing called love Yeah I gotta be cool, relax, get hip And get on my tracks Take a back seat, hitch-hike (Ah hum, ah hum) And take a long ride on my motorbike Until I'm ready (Ready Freddie) Crazy little thing called love This thing called love I just can't handle it This thing called love I must get 'round to it I ain't ready (Ooh ooh ooh ooh) Crazy little thing called love Crazy little thing called love, yeah, yeah Crazy little thing called love, yeah, yeah Crazy little thing called love, yeah, yeah Crazy little thing called love, yeah, yeah Crazy little thing called love, yeah, yeah Crazy little thing called love, yeah, yeah Crazy little thing called love, yeah, yeah Crazy little thing called love, yeah, yeah\n",
            "We don't need no education We don't need no thought control No dark sarcasm in the classroom Teacher, leave them kids alone Hey! Teacher! Leave them kids alone! All in all, it's just another brick in the wall All in all, you're just another brick in the wall We don't need no education We don't need no thought control No dark sarcasm in the classroom Teachers leave them kids alone Hey! Teacher! Leave us kids alone! All in all, you're just another brick in the wall All in all, you're just another brick in the wall Wrong, do it again! *Children playing* Wrong, do it again! If you don't eat your meat, you can't have any pudding! (Wrong, do it again!) How can you have any pudding if you don't eat your meat? (Wrong, do it again!) You! Yes! You behind the bike sheds! Stand still, laddie! (If you don't eat your meat, you can't have any pudding! How can you have any pudding if you don't eat your meat?) (You! Yes! You behind the bike sheds! Stand still, laddie!) *Children playing* *Phone beeping sound*\n",
            "1898 A Trip to the Moon 1903 The Great Train Robbery 1914 Gertie the Dinosaur 1915 Birth of a Nation 1916 One AM 1920 The Cabinet of Dr. Caligari 1921 The Goat 1922 Nanook of the North Nosferatu 1925 Battleship Potemkin * The Gold Rush 1927 The Jazz Singer Metropolis 1928 The Passion of Joan of Arc Steamboat Willie 1929 Man with a Movie Camera Un Chien Andalou 1931 Enthusiasm M 1932 Scarface 1933 King Kong 1934 Triumph des Willens 1935 The Bride of Frankenstein * 1936 Modern Times 1937 La grande illusion Snow White and the Seven Dwarfs 1939 Gone with the Wind Mr. Smith Goes to Washington The Wizard of Oz 1940 The Grapes of Wrath Pinocchio 1941 Citizen Kane Dumbo 1942 Casablanca 1943 Lassie come Home 1946 The Big Sleep Heures de la vie d'un clown * Notorious 1947 Miracle on 34th St. 1948 Bicycle Thieves 1949 Late Spring Le Silence de la mer * 1950 Rashomon Sunset Blvd. 1951 Alice in Wonderland 1952 High Noon Monkey Business Singing in the Rain 1953 Peter Pan 1954 La Strada On the Waterfront Rear Window The Road 1955 Lady and the Tramp 1956 Bob le Flambeur * La Strada The Man Who Knew Too Much 1957 12 Angry Men Cranes are Flying 1958 Mon Oncle 1959 The 400 Blows North by Northwest Sleeping Beauty Some Like it Hot 1960 Breathless Letter Never Sent Psycho Shoot the Piano Player 1961 Breakfast at Tiffany's The Hustler Un femme est un femme 1962 To Kill a Mockingbird Vivre Sa Vie 1963 Charade From Russia With Love The Great Escape Mahanagar Le Mepris Le Petit Soldat 1964 Bande à part Dr. Strangelove A Hard Day's Night 1965 For a Few Dollars More Help! Pierrot Le Fou The Sound of Music 1966 Death of a Bureaucrat * Django The Good, the Bad, and the Ugly How to Steal a Million Le deuxième souffle * Persona 1967 2 or 3 Things I Know About Her Barefoot in the Park Bonnie and Clyde La Chinoise * Cool Hand Luke The Dirty Dozen The Graduate Le Samourai Playtime 1968 Bullitt Once Upon a Time in the West Stolen Kisses Yellow Submarine 1969 Butch Cassidy and the Sundance Kid 1970 Le Cercle Rouge * The Conformist Patton They Call Me Trinity 1971 The Big Boss A Clockwork Orange The French Connection Shaft Willy Wonka and the Chocolate Factory 1972 The Chinese Connection The Godfather 1973 Badlands Live and Let Die Mean Streets Young Tiger 1974 Chinatown The Conversation The Godfather Part II The Taking of Pelham One, Two, Three 1975 Dog Day Afternoon Monty Python and the Holy Grail One Flew Over the Cuckoo's Nest One of our Dinosaurs is Missing Salo, or the 120 days of Sodom 1976 All the Presidents Men Network Rocky Taxi Driver 1977 Annie Hall Close Encounters of the Third Kind Star Wars 1978 Animal House Grease Jubilee Straight Time * 1979 Manhattan The Muppet Movie The Warriors 1980 Airplane The Elephant Man The Gods Must Be Crazy Raging Bull The Shining Shogun Assassin Star Wars: The Empire Strikes Back 1981 Escape From New York Raiders of the Lost Ark 1982 Blade Runner E.T. Gandhi 1983 The Outsiders Scarface Star Wars: Return of the Jedi 1984 Blood Simple Ghostbusters Indiana Jones and the Temple of Doom The Karate Kid The Natural Paris, Texas The Terminator This is Spinal Tap 1985 Back to the Future The Breakfast Club God's Country * 1986 Ferris Bueller's Day Off Hoosiers 1987 Full Metal Jacket Raising Arizona RoboCop The Princess Bride 1988 Beetlejuice Cinema Paradiso 1989 Batman Christmas Vacation Dead Poets Society Do the Right Thing Field of Dreams Glory Honey, I Shrunk the Kids Indiana Jones and the Last Crusade 1990 Goodfellas Edward Scissorhands Home Alone Miller's Crossing 1991 Barton Fink Beauty and the Beast Hook The Silence of the Lambs Slacker 1992 Aladdin A Few Good Men Glengarry Glen Ross Home Alone 2 Malcolm X Resevoir Dogs Super Cop 1993 Blue A Bronx Tale Cool Runnings Falling Down The Fugitive Groundhog Day Mrs. Doubtfire Jurassic Park Rudy The Sandlot Schindler's List 1994 Ace Ventura: Pet Detective Angels in the Outfield Clerks Dumb and Dumber Forrest Gump The Legend of the Drunken Master Leon: the Professional The Lion King Pulp Fiction Richie Rich The Santa Clause The Shawshank Redemption 1995 Apollo 13 Bad Boys Casino Friday Goldeneye Heat The Indian in the Cupboard Jumanji Rumble in the Bronx Se7en Toy Story The Usual Suspects 1996 Fargo Happy Gilmore James and the Giant Peach Jerry Maguire Mission: Impossible Primal Fear Shiloh Space Jam Trainspotting 1997 Beverly Hills Ninja Donnie Brasco Flubber The Game Gattaca Good Will Hunting Hercules Jackie Brown L.A. Confidential Liar Liar Men in Black The Rainmaker Titanic 1998 American History X Antz The Big Lebowski A Bug's Life Enemy of the State Following Halloweentown He Got Game Lock, Stock, and Two Smoking Barrels Lola Rennt Pi Rounders Rush Hour Rushmore The Truman Show 1999 American Beauty American Pie Big Daddy The Blair Witch Project Entrapment Eyes Wide Shut Fight Club Inspector Gadget The King and I Magnolia The Matrix Office Space Star Wars Episode I: The Phantom Menace The Sixth Sense Stuart Little Tarzan Three Kings Toy Story 2 2000 American Psycho Battle Royale The Boondock Saints Cast Away Chicken Run The Emperor's New Groove Gladiator High Fidelity How the Grinch Stole Christmas Meet the Parents Memento Mission: Impossible II O Brother, Where Art Thou? Pay It Forward Remember the Titans Road Trip Snatch Unbreakable What Women Want Wonder Boys 2001 Amelie American Pie 2 Atanarjuat: The Fast Runner Atlantis: Lost Empire A Beautiful Mind Black Hawk Down Das Experiment The Fast and the Furious Hardball Harry Potter and the Sorcerer's Stone In the Mood for Love Legally Blonde The Luck of the Irish Monsters Inc Ocean's Eleven The Royal Tenenbaums Rush Hour 2 Shrek Training Day Y Tu Mamá También 2002 25th Hour 8 Mile Adaptation The Bourne Identity Bowling for Columbine City of God Dirty Pretty Things Equlibrium Harry Potter and the Chamber of Secrets Ice Age Infernal Affairs Insomnia Lilo and Stitch Like Mike My Big Fat Greek Wedding John Q Punch-Drunk Love Red Dragon Spiderman Star Wars Episode II: Attack of the Clones Van Wilder Whale Rider * 2003 Bad Boys 2 Brother Bear Bruce Almighty The Core Daddy Day Care Elf Finding Nemo Holes The Incredible Hulk Kill Bill: Vol. 1 Matrix Reloaded Oldboy Pirates of the Caribbean: The Curse of the Black Pearl Radio The Room School of Rock Tupac: Resurrection 2004 Anchorman The Bourne Supremacy Crash Dodgeball Eternal Sunshine of the Spotless Mind Fahrenheit 9/11 Harry Potter and the Prisoner of Azkaban Hellboy Hotel Rwanda The Incredibles Kill Bill: Vol 2 Layer Cake Lemony Snicket's A Series of Unfortunate Events The Life Aquatic The Lion King 1 ½ The Machinist The Manchurian Candidate Mean Girls Meet the Fockers Miracle Mr. 3000 Napolean Dynamite National Treasure Ocean's Twelve The Polar Express Shaun of the Dead Shrek 2 Sideways Sky Captain and the World of Tomorrow Spiderman 2 Supersize Me Troy 2005 The 40-Year Old Virgin Batman Begins Cache Capote The Chronicles of Narnia: The Lion, The Witch, and the Wardrobe Cinderella Man Coach Carter Diary of a Mad Black Woman Fever Pitch Glory Road The Greatest Game Ever Played Harry Potter and the Goblet of Fire The Hitchhiker's Guide to the Galaxy Just Friends Kicking and Screaming Kiss Kiss Bang Bang The Longest Yard Me and You and Everyone We Know Mr. and Ms. Smith No Direction Home: Bob Dylan Pride and Prejudice The Puffy Chair The Squid and the Whale Star Wars Episode III: Revenge of the Sith Thank You For Smoking V for Vendetta Why We Fight 2006 Apocalypto Babel Borat Cars Casino Royale Children of Men Click The Da Vinci Code The Departed Eight Below Flags of our Fathers The Fountain An Inconvenient Truth Inside Man Invincible Das Leben der Anderen Night at the Museum Over the Hedge Pirates of the Caribbean: Dead Man's Chest The Prestige The Pursuit of Happyness Snakes on a Plane Talladega Nights: The Ballad of Ricky Bobby This Film Is Not Yet Rated We Are Marshall 2007 3:10 to Yuma American Gangster The Bourne Ultimatum The Bucket List Cashback Death Proof The Diving Bell and the Butterfly Fracture Freedom Writers Harry Potter and the Order of the Phoenix Hot Fuzz I Am Legend Into the Wild Juno Michael Clayton National Treasure: Book of Secrets No Country For Old Men Ocean's Thirteen Persepolis Pirates of the Caribbean: At World's End Priceless Shooter Shrek the Third Spiderman 3 Superbad There Will Be Blood Tom Petty and the Heartbreakers: Running Down a Dream Transformers Zodiac 2008 21 Burn After Reading The Dark Knight Food Inc. Get Smart Gran Torino Hunger I Need That Record! The Death (or Possible Survival) of the Independent Record Store In Bruges The Incredible Hulk Inkheart Leatherheads The Other Boleyn Girl Pineapple Express Quantum of Solace Religulous Righteous Kill Role Models Seven Pounds Slumdog Millionaire Synecdoche, New York Taken * Traitor Valkyrie Vantage Point WALL-E Die Welle 2009 3 Idiots 500 Days of Summer Adventureland Avatar The Blind Side Fantastic Mr. Fox The Girl With the Dragon Tattoo Harry Potter and the Halfblood Prince The House of the Devil The Informant! Inglorious Basterds The Invention of Lying Law Abiding Citizen Mother * A Serious Man Sherlock Holmes State of Play Transformers: Revenge of the Fallen The Unbelievers Up 2010 The A-Team Alice in Wonderland Beats, Rhymes & Life: The Travels of a Tribe Called Quest Black Swan The Book of Eli Chasing Legends DMT: The Spirit Molecule Exit Through the Gift Shop Four Lions Freakonomics The Ghost Writer Green Zone Harry Potter and the Deathly Hollows Pt. 1 I Am Inception Inside Job Jordan Rides the Bus The King's Speech No Crossover: The Trial of Allen Iverson Once Brothers The Parking Lot Movie Pony Excess Run Ricky, Run Scott Pilgrim vs. the World Shutter Island The Social Network Submarine Tabloid The Town The U Unstoppable Toy Story 3 Wall Street: Money Never Sleeps Waste Land Winning Time: Reggie Miller vs. The New York Knicks The Wish List 2011 50/50 The Adjustment Bureau Catching Hell Cowboys and Aliens Detachment Drive The Eagle The Fab Five George Harrison: Living in the Material World The Girl With the Dragon Tattoo The Greatest Movie Ever Sold Hall Pass The Help Horrible Bosses The Ides of March Jiro Dreams of Sushi Johnny English Reborn Limitless Midnight in Paris Moneyball Precious Knowledge * Rise of the Planet of the Apes Shame Source Code Super 8 Surviving Progress Unguarded X-Men: First Class Your Highness Your Sister's Sister 2012 The Amazing Spiderman The Announcement Argo The Avengers The Bourne Legacy Broke The Dark Knight Rises The Dictator Django Unchained End of Watch Four Horsemen Frances Ha The Hunger Games The Hunt The Intouchables Jack Reacher Knuckleball! Life of Pi Looper Man on a Ledge The Man With the Iron Fists Mud Moonrise Kingdom The Perks of Being a Wallflower The Place Beyond the Pines Rising from Ashes Ruby Sparks Safety Not Guaranteed Samsara Searching for Sugar Man Seven Psychopaths The Silver Linings Playbook Skyfall Snow White and the Huntsman Spring Breakers Something from Nothing: The Art of Rap Wreck-It Ralph You Don't Know Bo Zero Dark Thirty 2013 42 American Hustle Assault on El Capitan Begin Again Blue is the Warmest Color Broken Captain Phillips Dallas Buyers Club Department Q: The Keeper of Lost Causes * Don Jon The Double Drinking Buddies Frozen Fruitvale Station Gangster Squad The Great Gatsby Good Ol' Freda Inside Llewyn Davis The Kings of Summer Man of Steel Monsters University Nebraska Now You See Me Oldboy Olympus Has Fallen Pacific Rim Snowpiercer Twelve Years A Slave The Wolf of Wall Street World War Z 2014 American Sniper Birdman Brothers in Exile Boyhood Edge of Tomorrow Ex Machina Frank Gone Girl Goodbye to Language The Grand Budapest Hotel Guardians of the Galaxy Happy Christmas Horrible Bosses 2 The Imitation Game Interstellar The Interview John Wick Life Itself Little White Lie Nightcrawler The November Man The One I Love Our Vinyl Weighs A Ton Playing for the Mob Selma Slaying the Badger (30 for 30) Stop at Nothing: The Lance Armstrong Story The Theory of Everything Valley Uprising When the Garden was Eden Whiplash 2015 The Big Short Bikes vs. Cars Experimenter The Gift The Hammer The Hateful Eight I Hate Christian Laettner Inherent Vice Ixcanul * Kingsman: The Secret Service Mad Max: Fury Road The Man from U.N.C.L.E. Meru Mississippi Grind The Revenant Room Sicario Sole Man Spectre Spotlight The Stanford Prison Experiment Star Wars Episode VII: The Force Awakens Trainwreck The U Part 2 2016 Abacus: Small Enough to Jail * Arrival Believeland Betting on Zero * Captain America: Civil War Captain Fantastic Catholics vs. Convicts Chi-Raq Dirty Grandpa Doc & Darryl Equity Fantastic Beasts and Where to Find Them Fantastic Lies Fences Finding Dory First Contact: Lost Tribes of the Amazon * The Founder Genius of the World: Marx The Good Neighbor * Hail Caesar I Am Not Your Negro Imperium Jack Reacher: Never Go Back Miss Sloane Money Monster Moonlight Oasis: Supersonic One and Done Rogue One: A Star Wars Story Sand Storm * Snowden Sour Grapes * This Magic Moment Zootopia 2017 Baby Driver * The Big Sick Blade Runner: 2049 * The Breadwinner * The Crash The Dawn Wall The Disaster Artist Dismissed * Dolores * Dunkirk The Florida Project * Gerald's Game Get Me Roger Stone Get Out Good Time Guardians of the Galaxy Vol. 2 I Don't Feel At Home In This World Anymore Icarus It Comes at Night John Wick 2 Joshua: Teenager vs. Superpower * Lady Bird * Logan Lucky Long Shot * The Meyerowitz Stories Mudbound Mustang Island Mr. Roosevelt The Nile Hilton Incident * Nobody Speak: Trials of the Free Press Okja * The Only Living Boy in New York Perfect Bid: The Contestant Who Knew Too Much Phantom Thread * Roman J. Israel Esq. * Ruby Ridge Rumble * The Shape of Water * Spiderman: Homecoming * Split Star Wars: The Last Jedi * Three Billboards Outside Ebbing, Missouri * Toc Toc * Voyeur Wasted! The Story of Food Waste * What Will People Say? * Wheelman White Right: Meeting the Enemy Wilson Wind River Win it All 2018 Annihilation * Avengers: Infinity War The Ballad of Buster Scruggs Behind the Curve * Bird Box * BlacKKKlansman * Black Panther * El Club de los Insomnes Delerium * The Devil We Know * Eighth Grade First Reformed Free Solo Hereditary * If Beale Street Could Talk * Isle of Dogs * The Land of Steady Habits Leave No Trace Love Per Square Foot * Minding the Gap Mission Impossible: Fallout * Nappily Ever After * Of Fathers and Sons * The Old Man and the Gun The Rachel Divide * Ralph Breaks the Internet * Roma * Shoplifters * Solo: A Star Wars Story Sorry to Bother You * They'll Love Me When I'm Dead The Trader Widows * A Wrinkle in Time * You Were Never Really Here 2019 The Boy Who Harnessed the Wind * A Futile and Stupid Gesture Fyre: The Greatest Party That Never Happened Greta * High Flying Bird The Two Killings of Sam Cooke Unbanned: The Legend of AJ1 Velvet Buzzsaw\n",
            "{Intro} Gotta make a move to a town that's right for me Town to keep me movin', keep me groovin' with some energy Well, I talk about it, talk about it Talk about it, talk about it Talk about, talk about Talk about movin' Gotta move on Gotta move on Gotta move on {Bridge} A-won't you take me to Funkytown? Won't you take me to Funkytown? Won't you take me to Funkytown? Won't you take me to Funkytown? {Bridge} Won't you take me to Funkytown? Won't you take me to Funkytown? Won't you take me to Funkytown? Won't you take me to Funkytown? {Bridge} Gotta make a move to a town that's right for me Town to keep me movin', keep me groovin' with some energy Well, I talk about it, talk about it Talk about it, talk about it Talk about, talk about Talk about movin' Gotta move on Gotta move on Gotta move on {Bridge} A-won't you take me to Funkytown? Won't you take me to Funkytown? Won't you take me to Funkytown? Won't you take me to Funkytown? {Bridge} Won't you take me to Funkytown? Won't you take me to Funkytown? Won't you take me to Funkytown? Won't you take me to Funkytown? Won't you take me down to Funkytown? Won't you take me down to Funkytown? Won't you take me down to Funkytown? Won't you take me down to Funkytown? Won't you take me to Funkytown? Won't you take me to Funkytown? Won't you take me to Funkytown? Won't you take me to Funkytown? Take me, won't you take me? Take me, won't you take me? Take me, won't you take me? Take me, won't you take me? I wanna go to Funkytown I wanna go to Funkytown I wanna go to Funkytown I wanna go to Funkytown\n",
            "You want a love to last forever One that will never fade away I want to help you with your problem Stick around, I say Coming up Coming up, yeah Coming up like a flower Coming up, I say You want a friend you can rely on One who will never fade away And if you're searching for an answer Stick around, I say Coming up Coming up Coming up like a flower Coming up, yeah You want some peace and understanding So everybody can be free I know that we can get together We can make it, stick with me It's coming up Coming up Coming up like a flower Coming up for you and me Coming up Coming up Coming up Coming up, I say Coming up like a flower Coming up, I feel it in my bones Yeah, yeah yeah yeah You want a better kind of future One that everyone can share You're not alone, we all could use it Stick around, we're nearly there Coming up Coming up everywhere Coming up like a flower Coming up for all to share Coming up, yeah Coming up, anyway Coming up like a flower Coming up\n",
            "What's the matter with the clothes I'm wearing? Can't you tell that your tie's too wide? Maybe I should buy some old tab collars? Welcome back to the age of jive Where have you been hidin' out lately, honey? You can't dress trashy till you spend a lot of money Everybody's talkin' 'bout the new sound Funny, but it's still rock and roll to me What's the matter with the car I'm driving? Can't you tell that it's out of style? Should I get a set of white wall tires? Are you gonna cruise the miracle mile? Nowadays you can't be too sentimental Your best bet's a true baby blue Continental Hot funk, cool punk, even if it's old junk It's still rock and roll to me Oh, it doesn't matter what they say in the papers Cause it's always been the same old scene There's a new band in town But you can't get the sound from a story in a magazine... Aimed at your average teen How about a pair of pink sidewinders And a bright orange pair of pants? You could really be a Beau Brummel baby If you just give it half a chance Don't waste your money on a new set of speakers You get more mileage from a cheap pair of sneakers Next phase, new wave, dance craze, anyways It's still rock and roll to me What's the matter with the crowd I'm seeing? Don't you know that they're out of touch? Should I try to be a straight 'A' student? If you are then you think too much Don't you know about the new fashion honey? All you need are looks and a whole lotta money Next phase, new wave, dance craze, anyways It's still rock and roll to me Everybody's talkin' 'bout the new sound Funny, but it's still rock and roll to me\n",
            "Come take my hand You should know me I've always been in your mind You know I will be kind I'll be guiding you Building your dream Has to start now There's no other road to take You won't make a mistake I'll be guiding you You have to believe we are magic Nothin' can stand in our way You have to believe we are magic Don't let your aim ever stray And if all your hopes survive Destiny will arrive I'll bring all your dreams alive For you I'll bring all your dreams alive For you From where I stand You are home free The planets align so rare There's promise in the air And I'm guiding you Through every turn I'll be near you I'll come anytime you call I'll catch you when you fall I'll be guiding you You have to believe we are magic Nothin' can stand in our way You have to believe we are magic Don't let your aim ever stray And if all your hopes survive Destiny will arrive I'll bring all your dreams alive For you I'll bring all your dreams alive For you Heyyyyyyyy! You have to believe we are magic Nothin' can stand in our way You have to believe we are magic Don't let your aim ever stray And if all your hopes survive Destiny will arrive I'll bring all your dreams alive For you I'll bring all your dreams alive For you\n",
            "Well, it's not far down to paradise At least it's not for me And if the wind is right you can sail away And find tranquility Oh, the canvas can do miracles Just you wait and see Believe me It's not far to never never land No reason to pretend And if the wind is right you can find the joy Of innocence again Oh, the canvas can do miracles Just you wait and see Believe me Sailing Takes me away to where I've always heard it could be Just a dream and the wind to carry me Soon I will be free Fantasy It gets the best of me When I'm sailing All caught up in the reverie Every word is a symphony Won't you believe me? Sailing Takes me away to where I've always heard it could be Just a dream and the wind to carry me And soon I will be free Well, it's not far back to sanity At least it's not for me And if the wind is right you can sail away And find serenity Oh, the canvas can do miracles Just you wait and see Really, believe me Sailing Takes me away to where I've always heard it could be Just a dream and the wind to carry me And soon I will be free\n",
            "I said, \"Upside down, you're turning me.\" You're giving love instinctively 'Round and 'round, you're turning me Upside down Boy, you turn me inside out And 'round and 'round Upside down Boy, you turn me inside out And 'round and 'round Instinctively, you give to me the love that I need I cherish the moments with you Respectfully, I say to thee I'm aware that you're cheating When no one makes me feel like you do Upside down Boy, you turn me inside out And 'round and 'round Upside down Boy, you turn me inside out And 'round and 'round I know you got charm and appeal You always play the field I'm crazy to think you're all mine As long as the sun continues to shine There's a place in my heart for you, that's the bottom line Upside down Boy, you turn me inside out And 'round and 'round Upside down Boy, you turn me inside out And 'round and 'round Instinctively, you give to me the love that I need I cherish the moments with you Respectfully, I say to thee I'm aware that you're cheating When no one makes me feel like you do Upside down Boy, you turn me inside out And 'round, 'round Upside down Boy, you turn me inside out And 'round and 'round Upside down Boy, you turn me inside out And 'round and 'round Upside down Boy, you turn me inside out And 'round, 'round Upside down, you're turning me You're giving love instinctively \"'Round and 'round, you're turning me.\" I say to thee, respectfully Upside down, you're turning me You're giving love instinctively \"Around and around, you're turning me.\" I say to thee, respectfully I said, \"Upside down, you're turning me.\" You're giving love instinctively Around and around, you're turning me I say to thee, respectfully Upside down, you're turning me You're giving love instinctively \"'Round and 'round, you're turning me.\" I say to thee, respectfully Upside down, you're turning me\n",
            "Ooh, let's go! Steve walks warily down the street With the brim pulled way down low Ain't no sound but the sound of his feet Machine guns ready to go Are you ready? Hey, are you ready for this? Are you hanging on the edge of your seat? Out of the doorway the bullets rip To the sound of the beat, yeah Another one bites the dust Another one bites the dust And another one gone, and another one gone Another one bites the dust, yeah Hey, I'm gonna get you too Another one bites the dust How do you think I'm going to get along Without you, when you're gone You took me for everything that I had And kicked me out on my own Are you happy, are you satisfied? How long can you stand the heat? Out of the doorway the bullets rip To the sound of the beat Look out Another one bites the dust Another one bites the dust And another one gone, and another one gone Another one bites the dust Hey, I'm gonna get you, too Another one bites the dust Hey Oh, take it Bite the dust, hey Another one bites the dust Another one bites the dust, ow Another one bites the dust, hey hey Another one bites the dust, hey-eh-eh Ooh There are plenty of ways you can hurt a man And bring him to the ground You can beat him, you can cheat him, you can treat him bad And leave him when he's down, yeah But I'm ready, yes I'm ready for you I'm standing on my own two feet Out of the doorway the bullets rip Repeating the sound of the beat Oh yeah Another one bites the dust Another one bites the dust And another one gone, and another one gone Another one bites the dust, yeah Hey, I'm gonna get you, too Another one bites the dust Shoot out Ay-yeah Alright\n",
            "Life is a moment in space When the dream is gone, it's a lonelier place I kissed the morning goodbye But down inside you know we never know why The road is narrow and long When eyes meet eyes and the feeling is strong I turn away from the wall I stumble and fall but I give you it all I am a woman in love and I do anything To get you into my world and hold you within It's a right, I defend Over and over again What do I do With you eternally mine In love there is no measure of time We planned it all at the start That you and I live in each other's heart We may be oceans away You feel my love, I hear what you say No truth is ever a lie I stumble and fall but I give you it all I am a woman in love and I do anything To get you into my world and hold you within It's a right, I defend Over and over again What do I do Oh, oh, oh, oh, oh I am a woman in love and I'm talking to you You know I know how you feel, what a woman can do It's a right, I defend Over and over again I am a woman in love and I do anything To get you into my world and hold you within It's a right, I defend Over and over again\n",
            "Lady, I'm your knight in shining armor And I love you You have made me what I am and I am yours My love, there's so many ways I want to say I love you Let me hold you in my arms forever more You have gone and made me such a fool I'm so lost in your love And oh, we belong together Won't you believe in my song Lady, for so many years I thought I'd never find you You have come into my life And made me whole Forever let me wake to see you each and every morning Let me hear you whisper softly in my ear In my eyes I see no one else but you There's no other love like our love And yes, oh yes I'll always want you near me I've waited for you for so long Lady, your love's the only love I need And beside me is where I want you to be 'Cause my love There's something I want you to know You're the love of my life You're my lady\n",
            "Our life together is so precious together We have grown - we have grown Although our love is still special Let's take our chance and fly away somewhere alone It's been so long since we took the time No-one is to blame I know time flies so quickly But when I see you darling It's like we both are falling in love again It'll be just like starting over - starting over Everyday we used to make it love Why can't we be making love nice and easy It's time to spread our wings and fly Don't let another day go by my love It'll be just like starting over - starting over Why don't we take off alone Take a trip somewhere far, far away We'll be together, all alone again Like we used to in the early days Well, well, well darling It's been so long since we took the time No-one is to blame I know time flies so quickly But when I see you darling It's like we both are falling in love again It'll be just like starting over - starting over Everyday we used to make it love Why can't we be making love nice and easy It's time to spread our wings and fly Don't let another day go by my love It'll be just like starting over - starting over Our life together is so precious together We have grown - we have grown Although our love is still special Let's take our chance and fly away somewhere... Starting over\n",
            "The tide is high but I'm holdin' on I'm gonna be your number one I'm not the kind-a girl who gives up just like that, oh no It's not the things you do that tease and hurt me bad But it's the way you do the things you do to me I'm not the kind-a girl who gives up just like that, oh no The tide is high but I'm holdin' on I'm gonna be your number one, number one Every girl wants you to be her man But I'll wait my dear till it's my turn I'm not the kind-a girl who gives up just like that, oh no The tide is high but I'm holdin' on I'm gonna be your number one, number one, number one Every girl wants you to be her man But I'll wait my dear till it's my turn I'm not the kind-a girl who gives up just like that, oh no The tide is high but I'm holding on I'm gonna be your number one, number one, number one The tide is high but I'm holding on I'm gonna be your number one The tide is high but I'm holding on I'm gonna be your number one The tide is high but I'm holding on I'm gonna be your number one\n",
            "(This is your celebration) (This is your celebration) Celebrate good times, come on (Let's celebrate) Celebrate good times, come on (Let's celebrate) There's a party goin' on right here A celebration to last throughout the years So bring your good times and your laughter too We gonna celebrate your party with you Come on now (Celebration) Let's all celebrate and have a good time (Celebration) We gon' celebrate and have a good time It's time to come together It's up to you, what's your pleasure? (Everyone around the world come on) (Yahoo) It's a celebration (Yahoo) Celebrate good times, come on (It's a celebration) Celebrate good times, come on (Let's celebrate) There's a party goin' on right here A dedication to last throughout the years So bring your good times and your laughter too We gonna celebrate and party with you Come on now (Celebration) Let's all celebrate and have a good time (Celebration) We gon' celebrate and have a good time It's time to come together It's up to you, what's your pleasure? (Everyone around the world come on) (Yahoo) It's a celebration (Yahoo) It's a celebration Celebrate good times, come on (Let's celebrate, come on now) Celebrate good times, come on (Let's celebrate) We're gonna have a good time tonight Let's celebrate, it's all right We're gonna have a good time tonight Let's celebrate, it's all right, baby We're gonna have a good time tonight (Celebration) Let's celebrate, it's all right We're gonna have a good time tonight (Celebration) Let's celebrate, it's all right (Yahoo) (Yahoo) Celebrate good times, come on (Let's celebrate) Celebrate good times, come on (It's a celebration) Celebrate good times, come on (Let's celebrate) Celebrate good times, come on (Come on and celebrate tonight) (Baby everything's gonna be alright, let's celebrate) Celebrate good times, come on Celebrate good times, come on (Let's have a great time, celebrate) Celebrate good times, come on\n",
            "Tumble outta bed And stumble to the kitchen Pour myself a cup of ambition Yawnin' and stretchin' and try to come to life Jump in the shower And the blood starts pumpin' Out on the streets The traffic starts jumpin' With folks like me on the job from 9 to 5 Working 9 to 5 What a way to make a living Barely gettin' by It's all taking And no giving They just use your mind And they never give you credit It's enough to drive you Crazy if you let it 9 to 5, for service and devotion You would think that I Would deserve a fair promotion Want to move ahead But the boss won't seem to let me I swear sometimes that man is out to get me Mmmmm... They let you dream Just to watch them shatter You're just a step On the boss man's ladder But you got dreams he'll never take away In the same boat With a lot of your friends Waiting for the day Your ship will come in And the tide's gonna turn An' it's all gonna roll you away Working 9 to 5 What a way to make a living Barely gettin' by It's all taking And no giving They just use your mind And you never get the credit It's enough to drive you Crazy if you let it 9 to 5, yeah, they got you where they want you There's a better life And you think about it don't you It's a rich man's game No matter what they call it And you spend your life Putting money in his wallet Working 9 to 5 What a way to make a living Barely gettin' by It's all taking And no giving They just use your mind And they never give you credit It's enough to drive you Crazy if you let it 9 to 5, yeah, they got you where they want you There's a better life And you think about it don't you It's a rich man's game No matter what they call it And you spend your life Putting money in his wallet\n",
            "Well, I love a rainy night I love a rainy night I love to hear the thunder Watch the lightning When it lights up the sky You know it makes me feel good Well, I love a rainy night It's such a beautiful sight I love to feel the rain On my face Taste the rain on my lips In the moonlight shadow Showers washed All my cares away I wake up to a sunny day 'Cause I love a rainy night Yeah, I love a rainy night Well, I love a rainy night Well, I love a rainy night Ooh-ooh I love a rainy night I love a rainy night I love to hear the thunder Watch the lightning When it lights up the sky You know it makes me feel good Well, I love a rainy night It's such a beautiful sight I love to feel the rain On my face To taste the rain on my lips In the moonlight shadows Puts a song In this heart of mine Puts a smile on my face every time 'Cause I love a rainy night Yeah, I love a rainy night Ooh, I love a rainy night Yeah, I love a rainy night Ooh-ooh Showers washed All my cares away I wake up to a sunny day 'Cause I love a rainy night Yeah, I love a rainy night Well, I love a rainy night I love a rainy night Well, I love a rainy night You can see it in my eyes Yeah, I love a rainy night Well, it makes me high Ooh, I love a rainy night You know I do, yeah, yeah I love a rainy night I love a rainy night You can see it in my eyes..\n",
            "You should've seen by the look in my eyes, baby There was something missing You should've known by the tone of my voice, maybe But you didn't listen You played dead But you never bled Instead you lay still in the grass All coiled up and hissing And though I know all about those men Still I don't remember Cause it was us baby, way before then And we're still together And I meant, every word I said When I said that I love you I meant That I love you forever And I'm gonna keep on loving you Cause it's the only thing I wanna do I don't wanna sleep I just wanna keep on loving you And I meant every word I said When I said that I love you I meant That I love you forever And I'm gonna keep on loving you Cause it's the only thing I wanna do I don't wanna sleep I just wanna keep on loving you\n",
            "Toe to toe dancing very close Body breathing almost comatose Wall to wall people hypnotized And they're stepping lightly Hang each night in rapture Back to back sacroiliac Spineless movement and a wild attack Face to face sightless solitude And it's finger popping 24 hour shopping in rapture Fab Five Freddy told me everybody's fly DJ spinning I said \"My My\" Flash is fast, Flash is cool François c'est pas, Flash ain't no dude And you don't stop, sure shot Go out to the parking lot And you get in your car and drive real far And you drive all night and then you see a light And it comes right down and it lands on the ground And out comes the man from Mars And you try to run but he's got a gun And he shoots you dead and he eats your head And then you're in the man from Mars You go out at night eating cars You eat Cadillacs, Lincolns too Mercurys and Subaru And you don't stop, you keep on eating cars Then when there's no more cars you go out at night And eat up bars where the people meet Face to face, dance cheek to cheek One to one, man to man And toe to toe, don't move too slow Cause the man from Mars is through with cars He's eating bars, yeah wall to wall Door to door, hall to hall He's gonna eat 'em all Rapture, be pure, take a tour Through the sewer, don't strain your brain Paint a train, you'll be singing in the rain Said don't stop to the punk rock Well now you see what you wanna be Just have your party on TV Cause the man from Mars won't eat up bars Where the TV's on and now he's gone Back up to space where he won't have a hassle With the human race and you hip hop And you don't stop, just blast off Sure shot cause the man from Mars stopped eating cars And eating bars and now he only eats guitars, get up\n",
            "My friends wonder why I call you all the time, what can I say? I don't feel the need to give such secrets away You think maybe I need help, though I know I'm right, all right I'm just better off not listening to friends' advice When they insist on knowing my bliss I tell them this When they want to know what the reason is I only smile when I lie, then I tell them why Because your kiss, your kiss is on my list Because your kiss, your kiss is on my list Because your kiss is on my list of the best things in life Because your kiss, your kiss is on my list Because your kiss, your kiss I can't resist Because your kiss is what I miss when I turn out the light I go crazy wondering what there is to really see Did the night just take up your time, 'cause it means more to me Sometimes I forget what I'm doing, I don't forget what I want, I want Regret what I've done, regret you? I couldn't go on But if you insist on knowing my bliss I'll tell you this If you want to know what the reason is I only smile when I lie, then I'll tell you why Because your kiss, your kiss is on my list Because your kiss, your kiss is on my list Because your kiss is on my list of the best things in life Because your kiss, your kiss is on my list Because your kiss, your kiss I can't resist Because your kiss is what I miss when I turn out the light I really miss you, babe Because your kiss, your kiss is on my list Because your kiss, your kiss is on my list Because your kiss is on my list of the best things in life Oh babe, because your kiss, your kiss is on my list Because your kiss, your kiss I can't resist Because your kiss is what I miss when I turn out the light Because your kiss, your kiss is on my list Because your kiss, your kiss I can't resist Because your kiss is on my list of the best things in life Ohh, because your kiss, your kiss is on my list...\n",
            "I wake up every mornin', I stumble out of bed Stretchin' and yawnin', another day ahead It seems to last forever and time goes slowly by Till babe and me's together, then it starts to fly 'Cause the moment that he's with me, time can take a flight The moment that he's with me, everything's alright Night time is the right time, we make love Then it's his and my time, we take off My baby takes the morning train He works from nine to five and then He takes another home again To find me waitin' for him My baby takes the morning train He works from nine to five and then He takes another home again To find me waitin' for him He takes me to a movie or to a restaurant To go slow dancing, anything I want Only when he's with me, I catch light Only when he gives me, makes me feel alright My baby takes the morning train He works from nine to five and then He takes another home again To find me waitin' for him All day I think of him, dreamin' of him constantly I'm crazy mad for him and he's crazy mad for me (crazy mad for me) When he steps off that train, amazingly full of fight Work all day to earn his pay, so we can play all night My baby takes the morning train He works from nine to five and then He takes another home again To find me waitin' for him (My baby takes the morning train) He's always on that morning train (He works from nine to five and then) He works so hard (He takes another home again) To find me waiting for him (My baby takes the morning train) (He works from nine to five and then) (He takes another home again) (To find me waitin' for him)\n",
            "nan\n",
            "You can boogie like disco, love that disco sound Turn up the volume and move it all around But don't, don't, don't, don't, don't forget, oh no Don't, don't, don't, don't, don't forget The Stars On 45 keep on turning in your mind Like \"We Can Work It Out\" Remember \"Twist and Shout\" You still don't \"Tell Me Why\" and \"No Reply\" 1, 2, 3, 4... This happened once before when I came to your door No reply They said it wasn't you but I saw you peep through your window You know if you break my heart I'll go But I'll come back again 'Cause I told you once before goodbye But I came back again Asked a girl what she wanted to be And she said, \"Baby, can't you see?\" \"I wanna be famous, a star on the screen.\" \"But you can do something in between!\" \"Baby, you can drive my car.\" \"Yes, I'm gonna be a star.\" \"Baby, you can drive my car.\" \"And baby, I love you!\" Listen, do you want to know a secret? Do you promise not to tell? Oh, oh-a-oh, oh Closer, let me whisper in your ear Say the words you long to hear I'm in love with you (oh-a-ooh-ooh) Try to see it my way Do I have to keep on talking 'til I can't go on? While you see it your way Run the risk of knowing that our love may soon be gone We can work it out We can work it out I should've know better with a girl like you That I would love everything that you do And I do, hey, hey, hey He's a real nowhere man, sitting in his nowhere land You're gonna lose that girl You're gonna lose that girl You're gonna lose that girl I think I'm gonna be sad, I think it's today, yeah The girl that's driving me mad is going away She's got a ticket to ride, she's got a ticket to ride She's got a ticket to ride and she don't care Say the word and you'll be free Say the word and be like me Say the word I'm thinking of Have you heard the word is love? It's so fine, it's sunshine It's the word, love Ahh, look at all the lonely people Ahh, look at all the lonely people When I'm walking beside her people tell me I'm lucky Yes, I know I'm a lucky guy I remember the first time I was lonely without her Can't stop thinking about her now Every little thing she does, she does for me, yeah And you know the things she does, she does for me, oooh You tell me that you've got everything you want And your bird can sing But you don't get me, you don't get me When your prized possessions start to wear you down Look in my direction, I'll be around, I'll be around Jojo was a man who thought he was a loner But he knew it wouldn't last Jojo left his home in Tucson, Arizona For some California grass Get back, get back, get back to where you once belonged Get back, get back, get back to where you once belonged Got a good reason for takin' the easy way out Got a good reason for takin' the easy way out now She was a day tripper, one way ticket, yeah It took me so long to find out and I found out It's been a long time Now I'm coming back home I've been away now Oh, how I've been alone Wait 'til I come back to your side We'll forget the tears we've cried But if your heart breaks Don't wait, turn me away And if your heart's strong Hold on, I won't delay The Stars On 45 keep on turning in your mind Like \"We Can Work It Out\" Remember \"Twist and Shout\" You still don't \"Tell Me Why\" and \"No Reply\"\n",
            "Now the night has gone Now the night has gone away Doesn't seem that long We hardly had two words to say Hold me in your arms for just another day I promise this one will go slow Oh, we have the right you know We have the right you know Don't say the morning's come Don't say the morning's come so soon Must we end this way When so much here is hard to lose Love is everywhere, I know it is Such moments as this are too few Oh, it's all up to you It's all up to you Here I am, the one that you love Asking for another day Understand, the one that you love Loves you in so many ways Tell me we can stay Tell me we can stay, oh please They are the words to say The only words I can believe Hold me in your arms for just another day I promise this one will go slow Oh, we have the right you know We have the right you know Here I am, the one that you love Asking for another day Understand, the one that you love Loves you in so many ways Here I am, the one that you love Asking for another day Understand, the one that you love Loves you in so many ways The night has gone, a part of yesterday I don't know what to say I don't know what to say Here I am, the one that you love Asking for another day Understand, the one that you love Loves you in so many ways Here I am, the one that you love Asking for another day Understand, the one that you love Loves you in so many ways Here I am, the one that you love Asking for another day Understand, the one that you love Loves you in so many ways\n",
            "Jessie is a friend Yeah, I know, he's been a good friend of mine But lately something's changed that ain't hard to define Jessie's got himself a girl, and I wanna make her mine And she's watching him with those eyes And she's lovin' him with that body I just know it And he's holding her in his arms late, late at night You know I wish that I had Jessie's girl I wish that I had Jessie's girl Where can I find a woman like that? I'll play along with this charade That doesn't seem to be a reason to change You know I feel so dirty when they start talking cute I wanna tell her that I love her, but the point is probably moot Cause she's watching him with those eyes And she's lovin' him with that body I just know it And he's holding her in his arms late, late at night You know I wish that I had Jessie's girl I wish that I had Jessie's girl Where can I find a woman like that? Like Jessie's girl I wish that I had Jessie's girl Where can I find a woman... Where can I find a woman like that? And I'm lookin' in the mirror all the time Wonderin' what she don't see in me I've been funny; I've been cool with the lines Ain't that the way love's supposed to be? Tell me where can I find a woman like that? You know I wish that I had Jessie's girl I wish that I had Jessie's girl I want Jessie's girl Where can I find a woman like that? Like Jessie's girl I wish that I had Jessie's girl I want, I want Jessie's girl\n",
            "My love There's only you in my life The only thing that's bright My first love You're every breath that I take You're every step I make And I I want to share All my love with you No one else will do And your eyes Your eyes, your eyes They tell me how much you care Ooh yes, you will always be My endless love Two hearts Two hearts that beat as one Our lives have just begun Forever (Ohhhhhh) I'll hold you close in my arms I can't resist your charms And love Oh, love I'll be a fool For you I'm sure You know I don't mind Oh, you know I don't mind Cause you You mean the world to me Oh I know I know I've found in you My endless love Oooh-woow Boom, boom And, yes You'll be the only one Cause no one can deny This love I have inside And I'll give it all to you My love My love, my love My endless love\n",
            "Once in your life you find her Someone that turns your heart around And next thing you know you're closing down the town Wake up and it's still with you Even though you left her way 'cross town Wondering to yourself, \"Hey, what've I found?\" When you get caught between the moon and New York City I know it's crazy, but it's true If you get caught between the moon and New York City The best that you can do The best that you can do Is fall in love Arthur, he does as he pleases All of his life, his master's toys Deep in his heart, he's just, he's just a boy Living his life one day at a time And showing himself a pretty good time Laughing about the way they want him to be When you get caught between the moon and New York City I know it's crazy, but it's true If you get caught between the moon and New York City The best that you can do (The best that you can do) The best that you can do Is fall in love When you get caught between the moon and New York City I know it's crazy, but it's true If you get caught between the moon and New York City The best that you can do (The best that you can do) The best that you can do Is fall in love When you get caught between the moon and New York City I know it's crazy, but it's true If you get caught between the moon and New York City The best that you can do (The best that you can do) The best that you can do Is fall in love When you get caught between the moon and New York City I know it's crazy, but it's true\n",
            "I see you, you see me Watch you blowing the lines when you're making a scene Oh, girl, you've got to know What my head overlooks the senses will show To my heart, when it's watching for lies You can't escape my Private eyes They're watching you They see your every move Private eyes They're watching you Private eyes They're watching you Watching you Watching you Watching you You play with words, you play with love You can twist it around, baby, that ain't enough Cause girl, I'm going to know If you're letting me in or letting me go Don't lie when you're hurting inside Cause you can't escape my Private eyes They're watching you They see your every move, baby Private eyes They're watching you Private eyes They're watching you Watching you Watching you Watching you Why you try to put up a front for me? I'm a spy but on your side, you see Slip on into any disguise I'll still know you, look into my Private eyes They're watching you They see your every move Private eyes They're watching you Private eyes They're watching you Private eyes They're watching you They see your every move Private eyes They're watching you Private eyes They're watching you Private eyes They're watching you They see your every move Private eyes They're watching you Private eyes They're watching you Private eyes They're watching you They see your every move Private eyes They're watching you Private eyes They're watching you They see your every move\n",
            "nan\n",
            "Easy, ready, willing, overtime Where does it stop Where do you dare me To draw the line You've got the body Now you want my soul Don't even think about it Say, no go I'll do anything That you want me to do Yeah, I'll do almost anything That you want me too, ooh Yeah But I can't go for that, no No can do I can't go for that, no No can do I can't go for that, no No can do I can't go for that Can't go for that Can't go for that Can't go for that I can go for being twice as nice I can go for just repeating The same old lines Use the body Now you want my soul Ooh, forget about it Now say, no go I'll do anything That you want me to do Yeah, I'll do almost anything That you want me too, ooh Yeah But I can't go for that, no No can do I can't go for that, no No can do I can't go for that, no No can do I can't go for that Can't go for that Can't go for that Can't go for that I'll do anything That you want me to do Yeah, I'll do almost anything That you want me too, ooh Yeah But I can't go for that, no No can do I can't go for that, no No can do I can't go for that, no No can do I can't go for that Can't go for that Can't go for that Can't go for that\n",
            "Come on! Does she walk? Does she talk? Does she come complete? My homeroom homeroom angel Always pulled me from my seat She was pure like snowflakes No one could ever stain The memory of my angel Could never cause me pain Years go by I'm lookin' through a girly magazine And there's my homeroom angel On the pages in-between My blood runs cold My memory has just been sold My angel is the centerfold Angel is the centerfold My blood runs cold My memory has just been sold Angel is the centerfold Slipped me notes under the desk While I was thinkin' about her dress I was shy I turned away Before she caught my eye I was shakin' in my shoes Whenever she flashed those baby-blues Something had a hold on me When angel passed close by Those soft and fuzzy sweaters Too magical to touch To see her in that negligee Is really just too much My blood runs cold My memory has just been sold My angel is the centerfold Angel is the centerfold My blood runs cold My memory has just been sold Angel is the centerfold Nah nah nah nah nah nah Nah nah nah nah nah nah nah nah Nah nah nah nah nah nah nah nah Nah nah nah nah nah nah nah nah It's okay I understand This ain't no never-never land I hope that when this issue's gone I'll see you when your clothes are on Take you car, Yes we will We'll take your car and drive it We'll take it to a motel room And take 'em off in private A part of me has just been ripped The pages from my mind are stripped Oh no, I can't deny it Oh yea, I guess I gotta buy it! My blood runs cold My memory has just been sold My angel is the centerfold Angel is the centerfold My blood runs cold My memory has just been sold My Angel is the centerfold Nah nah nah nah nah nah nah nah nah (Alright! Alright! 1-2-3-4!) Nah nah nah nah nah nah Nah nah nah nah nah nah nah nah Nah nah nah nah nah nah nah nah Nah nah nah nah nah nah nah nah My blood runs cold My memory has just been sold My angel is the centerfold Angel is the centerfold My blood runs cold My memory has just been sold My angel is the centerfold Angel is the centerfold\n",
            "I saw him dancin' there by the record machine I knew he must a been about 17 The beat was goin' strong Playin' my favorite song An' I could tell it wouldn't be long 'Til he was with me, yeah, me And I could tell it wouldn't be long 'Til he was with me, yeah, me, singin' I love rock n' roll So put another dime in the jukebox, baby! I love rock n' roll So come and take your time and dance with me Ooh! He smiled so I got up and asked for his name “That don't matter”, he said “'Cause it's all the same” Said, “Can I take you home where we can be alone?” An' next we were movin' on He was with me, yeah me Next we were movin' on He was with me, yeah me, singin' I love rock n' roll So put another dime in the jukebox, baby! I love rock n' roll So come and take your time and dance with me Ooh! Said, “Can I take you home where we can be alone” Next we were movin' on He was with me, yeah me An we'll be movin' on An' singin' that same old song Yeah with me, singin' I love rock n' roll So put another dime in the jukebox, baby! I love rock n' roll So come and take your time and dance with me I love rock n' roll So put another dime in the jukebox, baby! I love rock n' roll So come and take your time and dance with me I love rock n' roll So put another dime in the jukebox, baby! I love rock n' roll So come and take your time and dance with I love rock n' roll So put another dime in the jukebox, baby! I love rock n' roll So come and take your time and dance with I love rock n' roll So put another dime in the jukebox, baby! I love rock n' roll So come and take your time and dance with me\n",
            "Chariots of fire are on my way Chariots of fire are the best I love chariots of fire Chariots Chariots Chariots Chariots... of FIRE!!! Chariots of fire!!!\n",
            "nan\n",
            "You were workin' as a waitress in a cocktail bar When I met you I picked you out, I shook you up and turned you around Turned you into someone new Now five years later on you've got the world at your feet Success has been so easy for you But don't forget, it's me who put you where you are now And I can put you back down too Don't, don't you want me? You know I can't believe it when I hear that you won't see me Don't, don't you want me? You know I don't believe you when you say that you don't need me It's much too late to find You think you've changed your mind You'd better change it back or we will both be sorry Don't you want me, baby? Don't you want me, ohh? Don't you want me, baby? Don't you want me, ohh? I was working as a waitress in a cocktail bar That much is true But even then I knew I'd find a much better place Either with or without you The five years we have had have been such good times I still love you But now I think it's time I live my life on my own I guess it's just what I must do Don't, don't you want me? You know I can't believe it when I hear that you won't see me Don't, don't you want me? You know I don't believe you when you say that you don't need me It's much too late to find You think you've changed your mind You'd better change it back or we will both be sorry Don't you want me, baby? Don't you want me, ohh? Don't you want me, baby? Don't you want me, ohh? Don't you want me, baby? Don't you want me, ohh? Don't you want me, baby? Don't you want me, ohh?\n",
            "Rising up, back on the street Did my time, took my chances Went the distance, now I'm back on my feet Just a man and his will to survive So many times it happens too fast You trade your passion for glory Don't lose your grip on the dreams of the past You must fight just to keep them alive It's the eye of the tiger It's the thrill of the fight Rising up to the challenge of our rival And the last known survivor Stalks his prey in the night And he's watching us all With the eye of the tiger Face to face, out in the heat Hanging tough, staying hungry They stack the odds 'til we take to the street For the kill with the skill to survive It's the eye of the tiger It's the thrill of the fight Rising up to the challenge of our rival And the last known survivor Stalks his prey in the night And he's watching us all With the eye of the tiger Rising up, straight to the top Had the guts, got the glory Went the distance, now I'm not gonna stop Just a man and his will to survive It's the eye of the tiger It's the thrill of the fight Rising up to the challenge of our rival And the last known survivor Stalks his prey in the night And he's watching us all With the eye of the tiger The eye of the tiger The eye of the tiger The eye of the tiger The eye of the tiger\n",
            "I heat up, I can't cool down You got me spinnin' 'Round and 'round 'Round and 'round and 'round it goes Where it stops nobody knows Every time you call my name I heat up like a burnin' flame Burnin' flame, full of desire Kiss me, baby, let the fire get higher Abra-abra-cadabra I wanna reach out and grab ya Abra-abra-cadabra Abracadabra You make me hot, you make me sigh You make me laugh, you make me cry Keep me burnin' for your love With the touch of a velvet glove Abra-abra-cadabra I wanna reach out and grab ya Abra-abra-cadabra Abracadabra I feel the magic in your caress I feel magic when I touch your dress Silk and satin, leather and lace Black panties with an angel's face I see magic in your eyes I hear the magic in your sighs Just when I think I'm gonna get away I hear those words that you always say Abra-abra-cadabra I wanna reach out and grab ya Abra-abra-cadabra Abracadabra Every time you call my name I heat up like a burnin' flame Burnin' flame full of desire Kiss me baby, let the fire get higher, yeah, yeah I heat up, I can't cool down My situation goes 'round and 'round I heat up, I can't cool down My situation goes 'round and 'round I heat up, I can't cool down My situation goes 'round and 'round I heat up, (I heat up) I can't cool down (I can't cool down) My situation goes 'round and 'round ('Round and 'round) I heat up, (I heat up) I can't cool down (I can't cool down) My situation goes 'round and 'round ('Round and 'round) I heat up, (I heat up) I can't cool down (I can't cool down)\n",
            "Everybody needs a little time away I heard her say, from each other Even lovers need a holiday Far away, from each other Hold me now It's hard for me to say I'm sorry I just want you to stay After all that we've been through I will make it up to you, I promise to And after all that's been said and done You're just a part of me, I can't let go Couldn't stand to be kept away Just for the day, from your body Wouldn't wanna be swept away Far away, from the one that I love Hold me now It's hard for me to say I'm sorry I just want you to know Hold me now I really wanna tell you I'm sorry I could never let you go After all that we've been through I will make it up to you, I promise to And after all that's been said and done You're just a part of me, I can't let go After all that we've been through I will make it up to you, I promise to You're gonna be the lucky one When we get there gonna jump in the air No one'll see us cause there's nobody there After all, you know we really don't care Hold on, I'm gonna take you there\n",
            "\"Jack and Diane,\" John Mellencamp \"Jackie Brown,\" John Cougar Mellencamp \"Jailhouse Rock,\" Elvis Presley \"Jennifer's Body,\" Hole \"Jeremy,\" Pearl Jam \"The Jerk,\" The Larks \"Jerusalem,\" Emerson, Lake & Palmer \"Jolene,\" Dolly Parton \"Jumper,\" Third Eye Blind \"Jumpin' Jack Flash,\" The Rolling Stones \"Jungle Fever,\" Stevie Wonder \"Jungle Fever,\" Neil Larsen \"Just A Gigolo,\" Louis Armstrong \"Just Like Heaven,\" The Cure\n",
            "Who can it be knocking at my door? Go 'way, don't come 'round here no more Can't you see that it's late at night? I'm very tired, and I'm not feeling right All I wish is to be alone; Stay away, don't you invade my home Best off if you hang outside Don't come in, I'll only run and hide Who can it be now? Who can it be now? Who can it be now? Who can it be now? Who can it be knocking at my door? Make no sound, tip-toe across the floor If he hears, he'll knock all day I'll be trapped, and here I'll have to stay I've done no harm, I keep to myself; There's nothing wrong with my state of mental health I like it here with my childhood friend; Here they come, those feelings again! Who can it be now? Who can it be now? Who can it be now? Who can it be now? Is it the man come to take me away? Why do they follow me? It's not the future that I can see It's just my fantasy Yeah! Who can it be now? Who can it be now? Who can it be now? Who can it be now? Oh, who can it be now? Oh, who can it, who can it Yeah yeah yeah Oh, oah...\n",
            "Who knows what tomorrow brings In a world few hearts survive All I know is the way I feel When it's real, I keep it alive The road is long There are mountains in our way But we climb a step every day Love lift us up where we belong Where the eagles cry, on a mountain high Love lift us up where we belong Far from the world below, up where the clear wind blow Some hang on to \"used to be\" Live their lives looking behind All we have is here and now All our life, out there to find The road is long There are mountains in our way But we climb them a step every day Love lift us up where we belong Where the eagles cry, on a mountain high Love lift us up where we belong Far from the world below, up where the clear winds blow Time goes by No time to cry Life's you and I Alive today Love lift us up where we belong Where the eagles cry, on a mountain high Love lift us up where we belong Far from the world below, up where the clear winds blow Love lift us up where we belong Where the eagles cry, on a mountain high Love lift us up where we belong\n",
            "Bathin’ Ape sweatsuit Cartier glasses I wish I walked around (?) Can’t even take a day off it’s so intense You know feeling when you riding paper temps How dare you looking like you ain’t convinced When it’s fall bet we still rake it in It’s no room you can’t have this much paper in This niggas ghetto as fuck and still can’t swim I touch water so clear I was already a player Just made me more aware Diamonds I share My son is my heir He gone be wealthy as fuck He gone be healthy as fuck Gucci polo for picture day uh huh She just can’t wait for February to come Black Chanel box with the bow to match Somewhere along the way we got so attached 2x Guess you could say you'se the one I trusted Who would ever think that you would spread like mustard? When shit got hot Oh now y’all want to talk black businesses Come to LA get your apprenticeship On Crenshaw Bob had his liquor store Sydney Lyons say nah just give them more Don’t never quit the game if you love it You might never get the see through AP flooded All them nights spent with hoes got repercussions But when you 80 dawg who you gone end up with I might just hit it out the park like Justin Game 2, paid dues I remember rocking songs for the first time Taking off her thong for the first time I need everybody to stand like at church time NYC skyline off the turnpike And LA sunsets with you by my side You know Guess you could say you'se the one I trusted And who would ever think that you would spread like mustard? When shit got hot I wish the world were truly happy (when I wake up in the morning) Living as one I wish the word they call freedom someday would come Someday would come Lionel Richie never lied Lionel Richie never lied Lionel Richie never lied\n",
            "Oh Mickey You're so fine You're so fine You blow my mind Hey Mickey! Hey Mickey! Oh Mickey You're so fine You're so fine You blow my mind Hey Mickey! Hey Mickey! Oh Mickey You're so fine You're so fine You blow my mind Hey Mickey! Hey Mickey! Oh Mickey You're so fine You're so fine You blow my mind Hey Mickey! Hey, Mickey! You've been around all night And that's a little long You think you've got it right But I think you got it wrong But can't you say goodnight So you can take me home Mickey 'Cause when you say you will It always means you won't You're giving me the chills Baby, please baby, don't Every night you still leave me all alone Mickey Oh Mickey, what a pity You don't understand You take me by the heart When you take me by the hand Oh Mickey, you're so pretty Can't you understand It's guys like you Mickey Oh what you do Mickey, do Mickey Don't break my heart Mickey! Hey Mickey! Now when you take me by the Who's ever gonna know Every time you move I let A little more show It's something we can use So don't say no Mickey So come on and give it to me anyway you can Anyway you wanna do it I'll treat you like a man But please baby please, don't leave me in the damn Mickey Oh Mickey, what a pity You don't understand You take me by the heart When you take me by the hand Oh Mickey, you're so pretty Can't you understand It's guys like you Mickey Oh what you do Mickey, do Mickey Don't break my heart Mickey! Oh Mickey You're so fine You're so fine You blow my mind Hey Mickey! Hey Mickey! Oh Mickey You're so fine You're so fine You blow my mind Hey Mickey! Hey Mickey! Oh Mickey You're so fine You're so fine You blow my mind Hey Mickey! Hey Mickey! Oh Mickey You're so fine You're so fine You blow my mind Hey Mickey! Oh Mickey, what a pity You don't understand You take me by the heart When you take me by the hand Oh Mickey, you're so pretty Can't you understand It's guys like you Mickey Oh what you do Mickey, do Mickey Don't break my heart Mickey! Oh Mickey, what a pity You don't understand You take me by the heart When you take me by the hand Oh Mickey, you're so pretty Can't you understand It's guys like you Mickey Oh what you do Mickey, do Mickey Don't break my heart Mickey! Oh Mickey, what a pity You don't understand You take me by the heart When you take me by the hand Oh Mickey, you're so pretty Can't you understand It's guys like you Mickey Oh what you do Mickey, do Mickey Don't break my heart Mickey! Oh Mickey, what a pity You don't understand You take me by the heart When you take me by the hand Oh Mickey, you're so pretty Can't you understand It's guys like you Mickey\n",
            "She'll only come out at night The lean and hungry type Nothing is new I've seen her here before Watching and waiting Ooh, she's sitting with you, but her eyes are on the door So many have paid to see what you think you're getting for free The woman is wild, a she-cat tamed by the purr of a Jaguar Money's the matter If you're in it for love, you ain't gonna get too far (Oh-oh, here she comes) Watch out, boy, she'll chew you up (Oh-oh, here she comes) She's a maneater (Oh-oh, here she comes) Watch out, boy, she'll chew you up (Oh-oh, here she comes) She's a maneater I wouldn't if I were you I know what she can do She's deadly, man She could really rip your world apart Mind over matter Ooh, the beauty is there but a beast is in the heart (Oh-oh, here she comes) Watch out, boy, she'll chew you up (Oh-oh, here she comes) She's a maneater (Oh-oh, here she comes) Watch out, boy, she'll chew you up (Oh-oh, here she comes) She's a maneater Ooh (Oh-oh, here she comes) Here she comes, watch out, boy, she'll chew you up (Whoa-oh, here she comes, watch out) She's a maneater (Oh-oh, here she comes, she's a maneater) Ooh, she'll chew you up (Oh-oh, here she comes) Here she comes, she's a maneater (Oh-oh, here she comes, watch out) She'll only come out at night, ooh (Oh-oh, here she comes) Here she comes, she's a maneater (Oh-oh, here she comes, she's a maneater) The woman is wild, woo (Oh-oh, here she comes) Here she comes, watch out, boy, watch out, boy (Oh-oh, here she comes) Oh, watch out, watch out, watch out, watch out (Oh-oh, here she comes, watch out) Yeah, yeah, she's a maneater (Oh-oh, here she comes, she's a maneater) She's watching and waiting, ooh (Oh-oh, here she comes) Oh, she's a maneater\n",
            "Traveling in a fried-out Kombi On a hippie trail, head full of zombie I met a strange lady, she made me nervous She took me in and gave me breakfast And she said Do you come from a land down under Where women glow and men plunder Can't you hear, can't you hear the thunder? You better run, you better take cover Buying bread from a man in Brussels He was six-foot-four and full of muscles I said, \"Do you speak-a my language?\" He just smiled and gave me a Vegemite sandwich And he said I come from a land down under Where beer does flow and men chunder Can't you hear, can't you hear the thunder? You better run, you better take cover, yeah Lyin' in a den in Bombay With a slack jaw, and not much to say I said to the man, \"Are you trying to tempt me Because I come from the land of plenty?\" And he said Do you come from a land down under (Oh yeah yeah) Where women glow and men plunder Can't you hear, can't you hear the thunder? You better run, you better take cover Living in a land down under Where women glow and men plunder Can't you hear, can't you hear the thunder? You better run, you better take cover Living in a land down under Where women glow and men plunder Can't you hear, can't you hear the thunder? You better run, you better take cover Living in a land down under Where women glow and men plunder Can't you hear, can't you hear the thunder? You better run, you better take cover\n",
            "I hear the drums echoing tonight But she hears only whispers of some quiet conversation She's coming in, 12:30 flight Her moonlit wings reflect the stars that guide me towards salvation I stopped an old man along the way Hoping to find some old forgotten words or ancient melodies He turned to me as if to say \"Hurry boy, it's waiting there for you\" It's gonna take a lot to drag me away from you There's nothing that a hundred men or more could ever do I bless the rains down in Africa Gonna take some time to do the things we never had The wild dogs cry out in the night As they grow restless longing for some solitary company I know that I must do what's right As sure as Kilimanjaro rises like Olympus above the Serengeti I seek to cure what's deep inside Frightened of this thing that I've become It's gonna take a lot to drag me away from you There's nothing that a hundred men or more could ever do I bless the rains down in Africa Gonna take some time to do the things we never had Hurry boy, she's waiting there for you It's gonna take a lot to drag me away from you There's nothing that a hundred men or more could ever do I bless the rains down in Africa I bless the rains down in Africa I bless the rains down in Africa I bless the rains down in Africa I bless the rains down in Africa Gonna take some time to do the things we never had\n",
            "Thinkin' back in time When love was only in my mind, I realize Ain't no second chance You've got to hold on to romance Don't let it slide There's a special kind of magic in the air When you find another heart that needs to share Baby, come to me Let me put my arms around you This was meant to be And I'm oh so glad I found you Need you every day Gotta have your love around me Baby, always stay 'Cause I can't go back to livin' without you Spendin' every dime to keep you talkin' on the line That's how it was And all those walks together out in any kind of weather Just because There's a brand new way of looking at your life When you know that love is standing by your side Baby, come to me Let me put my arms around you This was meant to be And I'm oh so glad I found you Need you every day Gotta have your love around me Baby, always stay Cause I can't go back to livin' without you The nights can be cold There's a chill to every evening when you're all alone Don't talk anymore 'Cause you know that I'll be here to keep you warm Oh, darling, keep me warm Baby, come to me (Come to me) Let me put my arms around you This was meant to be And I'm oh so glad I found you Need you every day (Every day) Gotta have your love around me (I gotta have you) Baby, always stay 'Cause I can't go back to livin' without you Come to me (Let me put my arms around you) Let me put my arms around you (Hey!) This was meant to be And I'm oh so glad I found you (I need you every day, baby) Need you every day (Gotta have) Gotta have your love around me Baby, always stay (Oh, I want you to stay) 'Cause I can't go back to livin' without you Come to me (Come to me) Let me put my arms around you This was meant to be (Let me love you, baby) And I'm oh so glad I found you (Glad that I found you) Need you every day (Got to have you) Gotta have your love around me Baby, always stay (Oh, always stay) 'Cause I can't go back to livin' without you\n",
            "<class 'str'>\n"
          ]
        }
      ],
      "source": [
        "#combine all the snippets into a series of strings\n",
        "\n",
        "snippet = '\\n'.join(cor)\n",
        "print(snippet)\n",
        "print(type(snippet))"
      ]
    },
    {
      "cell_type": "markdown",
      "metadata": {
        "id": "RAOAWTqAjB3j"
      },
      "source": [
        "the lower() function has transformed our string into a list of strings."
      ]
    },
    {
      "cell_type": "code",
      "execution_count": null,
      "metadata": {
        "colab": {
          "base_uri": "https://localhost:8080/"
        },
        "id": "nk4rIBG7q3Dj",
        "outputId": "7c00a105-79a0-4c31-b5bc-6cf134166d9b"
      },
      "outputs": [
        {
          "output_type": "stream",
          "name": "stdout",
          "text": [
            "[\"i love you yeah babe, i love you so i want you to know that i'm gonna miss your love the minute you walk out that door so please don't go don't go don't go away please don't go don't go i'm begging you to stay if you leave, at least in my lifetime i've had one dream come true i was blessed to be loved by someone as wonderful as you so please don't go don't go don't go away please don't go don't go i'm begging you to stay hey, hey, hey yeah babe, i love you so i, i want you to know that i'm gonna miss your love the minute you walk out that door so please don't go don't go don't go away hey, hey, hey i need your love i'm down on my knees beggin' please, please, please don't go don't you hear me, baby? don't leave me now oh, no, no, no, no please don't go i want you to know that i, i, i love you so please don't leave me, baby please don't go\", \"girl, close your eyes let that rhythm get into you don't try to fight it there ain't nothin' that you can do relax your mind lay back and groove with mine you gotta feel that heat and we can ride the boogie share that beat of love i wanna rock with you (all night) dance you into day (sunlight) i wanna rock with you (all night) we're gonna rock the night away (rock, right) out on the floor there ain't nobody there but us girl, when you dance there's a magic that must be love just take it slow 'cause we got so far to go when you feel that heat and we're gonna ride the boogie share that beat of love i wanna rock with you (all night) dance you into day (sunlight) i wanna rock with you (all night) we're gonna rock the night away and when the groove is dead and gone (yeah) you know that love survives so we can rock forever, on i wanna rock with you i wanna groove with you i wanna rock with you i wanna groove with you i wanna rock (all night) with you girl (sunlight) rock with you, rock with you girl (yeah) (all night) dance the night away i wanna rock with you (yeah) (all night) rock you into day (sunlight) i wanna rock with you (all night) rock the night away feel the heat, feel the beat (all night) rock you into day (sunlight) i wanna rock (all night) rock the night away\"]\n"
          ]
        }
      ],
      "source": [
        "# the text contains  unique snippets\n",
        "\n",
        "cor = snippet.lower().split('\\n')\n",
        "print(cor[:2]) #snippets\n"
      ]
    },
    {
      "cell_type": "markdown",
      "metadata": {
        "id": "kLzJC2HxjGap"
      },
      "source": [
        "Tokenize the corpus, meaning we transform each unique word into a numerical value, which is easier for the algorithm to understand.Tokenizing is the process in which we provide a unique id to all the words and make a word index. Kera's tokenizer also ranges the word according to their frequencies. The most frequent word as a key takes the value: 1. \n",
        "We have 2356 unique words in our dataset. \n",
        "Calculate the length size by using the length that 'tokenizer.word_index' provides us and add 1 ( because 0 is reserved for padding)and start our count at 1. "
      ]
    },
    {
      "cell_type": "code",
      "execution_count": null,
      "metadata": {
        "colab": {
          "base_uri": "https://localhost:8080/"
        },
        "id": "mIxtGFAwx5Hg",
        "outputId": "b8bd5ba7-3beb-4b95-8454-abffe5a78529"
      },
      "outputs": [
        {
          "output_type": "stream",
          "name": "stdout",
          "text": [
            "2538\n",
            "{'the': 1, 'you': 2, 'i': 3, 'and': 4, 'to': 5, 'me': 6, 'a': 7, 'love': 8, 'my': 9, 'of': 10, 'that': 11, 'in': 12, 'your': 13, 'it': 14, \"don't\": 15, 'oh': 16, 'on': 17, \"it's\": 18, 'can': 19, 'do': 20, 'is': 21, 'for': 22, 'be': 23, 'take': 24, 'one': 25, 'up': 26, 'all': 27, 'so': 28, 'we': 29, 'with': 30, \"can't\": 31, \"i'm\": 32, 'just': 33, 'know': 34, 'no': 35, 'when': 36, 'yeah': 37, 'go': 38, 'time': 39, 'nah': 40, 'out': 41, \"you're\": 42, 'come': 43, 'night': 44, 'like': 45, 'mickey': 46, 'but': 47, 'baby': 48, 'want': 49, 'down': 50, 'get': 51, 'she': 52, 'another': 53, 'have': 54, \"'round\": 55, 'where': 56, 'gonna': 57, 'what': 58, 'rock': 59, 'kiss': 60, 'away': 61, 'now': 62, 'say': 63, 'he': 64, 'here': 65, 'day': 66, 'man': 67, 'hey': 68, 'from': 69, \"won't\": 70, \"i'll\": 71, 'see': 72, 'good': 73, 'if': 74, 'girl': 75, 'every': 76, 'eyes': 77, 'never': 78, 'again': 79, 'this': 80, 'they': 81, 'celebrate': 82, 'back': 83, 'wanna': 84, 'watching': 85, 'by': 86, 'who': 87, 'are': 88, 'let': 89, 'right': 90, 'got': 91, 'been': 92, 'was': 93, 'crazy': 94, 'funkytown': 95, 'around': 96, 'coming': 97, 'ooh': 98, 'will': 99, 'comes': 100, 'at': 101, 'thing': 102, 'about': 103, 'life': 104, 'hear': 105, 'more': 106, 'find': 107, 'way': 108, 'mind': 109, 'new': 110, 'because': 111, \"she's\": 112, \"there's\": 113, 'too': 114, 'our': 115, 'rainy': 116, 'need': 117, 'heart': 118, 'boy': 119, 'gone': 120, 'tell': 121, 'over': 122, 'roll': 123, 'there': 124, 'feel': 125, 'called': 126, 'still': 127, 'her': 128, 'not': 129, 'make': 130, 'better': 131, \"they're\": 132, 'think': 133, 'turn': 134, 'said': 135, 'his': 136, 'him': 137, 'gotta': 138, 'little': 139, 'cool': 140, 'world': 141, 'watch': 142, 'move': 143, 'keep': 144, 'best': 145, \"he's\": 146, 'understand': 147, 'private': 148, 'had': 149, 'as': 150, 'heat': 151, 'long': 152, 'times': 153, 'home': 154, 'list': 155, 'only': 156, 'talk': 157, 'always': 158, \"let's\": 159, 'then': 160, 'men': 161, 'inside': 162, 'could': 163, 'dust': 164, 'fine': 165, 'angel': 166, \"i've\": 167, 'am': 168, '2': 169, 'well': 170, 'believe': 171, 'takes': 172, 'upside': 173, 'bites': 174, 'put': 175, 'please': 176, 'us': 177, 'alone': 178, 'high': 179, 'has': 180, 'cause': 181, 'stay': 182, 'dance': 183, \"'cause\": 184, 'once': 185, 'wall': 186, 'woman': 187, 'ever': 188, 'hold': 189, 'celebration': 190, \"n'\": 191, 'into': 192, 'magic': 193, 'far': 194, 'how': 195, 'some': 196, 'york': 197, 'wish': 198, 'turning': 199, \"jessie's\": 200, 'centerfold': 201, \"ain't\": 202, 'sound': 203, 'much': 204, 'or': 205, 'things': 206, 'star': 207, 'run': 208, 'why': 209, 'land': 210, 'together': 211, 'arms': 212, 'number': 213, 'eye': 214, 'abra': 215, 'maneater': 216, 'leave': 217, 'enough': 218, 'ready': 219, 'them': 220, 'tiger': 221, 'blood': 222, 'off': 223, 'give': 224, 'caught': 225, 'between': 226, 'blow': 227, 'goes': 228, 'cold': 229, 'yes': 230, 'moon': 231, 'train': 232, 'wind': 233, 'wars': 234, 'dreams': 235, 'last': 236, 'city': 237, 'old': 238, 'through': 239, 'five': 240, 'living': 241, 'morning': 242, 'anything': 243, 'many': 244, 'face': 245, 'does': 246, 'beat': 247, \"we're\": 248, 'must': 249, 'those': 250, 'stand': 251, 'kind': 252, 'game': 253, 'black': 254, 'drive': 255, 'sold': 256, 'free': 257, 'really': 258, \"that's\": 259, 'bring': 260, 'alive': 261, 'word': 262, 'giving': 263, 'belong': 264, 'starting': 265, 'would': 266, 'meant': 267, \"you've\": 268, 'found': 269, 'memory': 270, 'door': 271, 'dream': 272, 'true': 273, 'fight': 274, 'forever': 275, 'words': 276, 'eat': 277, 'la': 278, 'late': 279, 'le': 280, 'road': 281, 'hand': 282, 'call': 283, 'story': 284, 'american': 285, 'pretty': 286, '9': 287, 'fire': 288, 'after': 289, 'town': 290, 'stop': 291, \"movin'\": 292, 'matter': 293, 'fall': 294, 'wait': 295, 'without': 296, 'ways': 297, 'thunder': 298, 'runs': 299, 'dime': 300, 'chariots': 301, 'lift': 302, \"she'll\": 303, 'miss': 304, 'ride': 305, 'share': 306, 'dead': 307, 'hot': 308, 'big': 309, 'lady': 310, 'part': 311, '3': 312, 'two': 313, 'harry': 314, 'potter': 315, 'cars': 316, 'lot': 317, 'money': 318, 'first': 319, 'nothing': 320, 'years': 321, 'were': 322, \"what's\": 323, 'survive': 324, 'promise': 325, 'instinctively': 326, 'tide': 327, '5': 328, 'body': 329, 'forget': 330, 'ohh': 331, 'works': 332, 'under': 333, 'jukebox': 334, 'cry': 335, 'bless': 336, 'rains': 337, 'africa': 338, 'try': 339, 'mine': 340, 'woo': 341, 'gives': 342, 'wrong': 343, 'any': 344, 'rain': 345, 'hard': 346, 'full': 347, 'remember': 348, 'women': 349, 'mad': 350, 'play': 351, 'street': 352, 'rising': 353, 'something': 354, 'people': 355, 'sorry': 356, 'party': 357, 'flower': 358, 'use': 359, 'car': 360, 'even': 361, 'next': 362, 'reason': 363, 'respectfully': 364, 'thee': 365, 'makes': 366, 'took': 367, 'look': 368, 'alright': 369, 'such': 370, 'wake': 371, 'fly': 372, 'easy': 373, 'holding': 374, 'yahoo': 375, 'tonight': 376, 'waiting': 377, 'nine': 378, 'break': 379, 'asking': 380, 'loves': 381, 'cadabra': 382, 'pity': 383, 'guys': 384, 'chew': 385, 'cover': 386, 'glad': 387, 'babe': 388, 'close': 389, 'groove': 390, 'sunlight': 391, 'slow': 392, 'did': 393, 'dark': 394, 'kids': 395, 'movie': 396, 'white': 397, 'mr': 398, 'knew': 399, 'kill': 400, 'bad': 401, 'taking': 402, 'lost': 403, 'john': 404, 'spiderman': 405, '1': 406, 'an': 407, 'wild': 408, 'other': 409, 'side': 410, 'vs': 411, 'lie': 412, 'done': 413, 'bridge': 414, 'touch': 415, 'heard': 416, 'soon': 417, 'each': 418, 'made': 419, \"we'll\": 420, 'before': 421, 'toe': 422, 'light': 423, 'mars': 424, 'eating': 425, 'resist': 426, \"waitin'\": 427, 'work': 428, \"'til\": 429, 'lose': 430, \"wouldn't\": 431, \"burnin'\": 432, 'situation': 433, 'glow': 434, 'plunder': 435, \"livin'\": 436, \"nothin'\": 437, 'nobody': 438, 'fever': 439, 'seat': 440, 'thought': 441, 'brick': 442, 'meat': 443, 'pudding': 444, 'behind': 445, 'great': 446, 'king': 447, 'beauty': 448, 'escape': 449, 'few': 450, 'help': 451, 'dirty': 452, 'live': 453, 'hall': 454, 'club': 455, 'glory': 456, 'richie': 457, 'happy': 458, 'space': 459, 'hour': 460, 'episode': 461, 'meet': 462, 'fast': 463, 'bourne': 464, 'care': 465, 'room': 466, 'captain': 467, 'everyone': 468, 'below': 469, \"man's\": 470, 'end': 471, 'fantastic': 472, 'jack': 473, 'place': 474, 'everything': 475, 'moment': 476, 'bird': 477, 'lucky': 478, 'stick': 479, 'friend': 480, 'should': 481, 'till': 482, 'same': 483, 'chance': 484, 'guiding': 485, 'start': 486, 'sailing': 487, 'feet': 488, 'rip': 489, 'along': 490, 'stumble': 491, 'defend': 492, 'song': 493, 'grown': 494, 'somewhere': 495, 'darling': 496, 'both': 497, \"it'll\": 498, 'used': 499, 'spread': 500, 'working': 501, 'step': 502, \"an'\": 503, 'known': 504, 'loving': 505, 'almost': 506, 'flash': 507, 'sure': 508, 'bars': 509, 'ticket': 510, \"we've\": 511, 'turned': 512, 'guess': 513, \"singin'\": 514, 'flame': 515, 'eagles': 516, 'mountain': 517, 'clear': 518, 'can’t': 519, 'walk': 520, 'least': 521, 'someone': 522, 'relax': 523, 'boogie': 524, 'while': 525, 'near': 526, 'knows': 527, 'hip': 528, 'teacher': 529, 'children': 530, 'playing': 531, 'trip': 532, 'rush': 533, 'un': 534, 'seven': 535, 'sleep': 536, 'de': 537, 'miracle': 538, 'bob': 539, 'breakfast': 540, 'death': 541, 'park': 542, 'boss': 543, 'mean': 544, 'ii': 545, 'three': 546, 'days': 547, 'third': 548, 'straight': 549, 'runner': 550, 'e': 551, 'future': 552, 'christmas': 553, 'honey': 554, 'x': 555, 'dogs': 556, 'blue': 557, 'falling': 558, 'legend': 559, 'lion': 560, 'rich': 561, 'boys': 562, 'toy': 563, 'mission': 564, 'impossible': 565, 'state': 566, 'show': 567, 'wonder': 568, 'beautiful': 569, \"ocean's\": 570, 'shrek': 571, 'secrets': 572, 'dragon': 573, 'vol': 574, 'pirates': 575, 'caribbean': 576, 'sky': 577, 'tomorrow': 578, 'greatest': 579, 'galaxy': 580, 'friends': 581, 'nights': 582, 'knight': 583, 'record': 584, 'four': 585, 'u': 586, 'waste': 587, 'precious': 588, 'war': 589, 'goodbye': 590, '30': 591, 'moonlight': 592, 'shot': 593, 'everybody': 594, 'anyway': 595, 'maybe': 596, 'dress': 597, 'spend': 598, \"everybody's\": 599, \"talkin'\": 600, 'funny': 601, \"doesn't\": 602, 'pair': 603, 'aim': 604, 'stray': 605, 'hopes': 606, 'destiny': 607, 'arrive': 608, 'air': 609, 'canvas': 610, 'miracles': 611, 'carry': 612, 'moments': 613, 'aware': 614, 'line': 615, 'doorway': 616, 'bullets': 617, 'going': 618, 'own': 619, 'feeling': 620, 'strong': 621, 'within': 622, 'talking': 623, 'special': 624, 'making': 625, 'nice': 626, 'wings': 627, \"holdin'\": 628, \"goin'\": 629, 'starts': 630, 'barely': 631, \"gettin'\": 632, 'credit': 633, 'seem': 634, 'smile': 635, \"should've\": 636, 'though': 637, 'hang': 638, 'rapture': 639, 'real': 640, 'head': 641, \"you'll\": 642, 'knowing': 643, 'nan': 644, 'stars': 645, 'twist': 646, 'reply': 647, 'lonely': 648, 'changed': 649, 'change': 650, 'lines': 651, 'endless': 652, 'hearts': 653, 'homeroom': 654, 'name': 655, 'thrill': 656, 'challenge': 657, 'rival': 658, 'survivor': 659, 'stalks': 660, 'prey': 661, 'reach': 662, 'grab': 663, 'ya': 664, 'abracadabra': 665, 'looking': 666, 'it’s': 667, 'fuck': 668, 'lionel': 669, 'lied': 670, 'drag': 671, 'hundred': 672, 'minute': 673, 'begging': 674, 'lay': 675, 'floor': 676, 'pass': 677, 'handle': 678, 'tracks': 679, 'hitch': 680, 'hike': 681, 'motorbike': 682, 'until': 683, 'ah': 684, 'hum': 685, 'education': 686, 'control': 687, 'sarcasm': 688, 'classroom': 689, 'bike': 690, 'sheds': 691, 'laddie': 692, 'dr': 693, 'north': 694, 'passion': 695, 'scarface': 696, 'bride': 697, 'snow': 698, 'smith': 699, 'grapes': 700, 'citizen': 701, 'vie': 702, 'spring': 703, 'silence': 704, 'alice': 705, 'wonderland': 706, 'singing': 707, 'strada': 708, 'window': 709, '12': 710, 'flying': 711, 'psycho': 712, 'shoot': 713, 'player': 714, 'femme': 715, 'charade': 716, 'django': 717, 'submarine': 718, 'kid': 719, 'orange': 720, 'connection': 721, 'godfather': 722, 'die': 723, 'streets': 724, 'conversation': 725, 'missing': 726, 'network': 727, 'driver': 728, 'house': 729, 'shining': 730, 'empire': 731, 'blade': 732, 'jedi': 733, 'indiana': 734, 'jones': 735, 'paris': 736, 'country': 737, 'arizona': 738, 'batman': 739, 'field': 740, 'beast': 741, 'super': 742, 'bronx': 743, 'casino': 744, 'rumble': 745, 'jam': 746, 'jackie': 747, 'brown': 748, 'l': 749, 'liar': 750, 'enemy': 751, 'smoking': 752, 'pi': 753, 'pie': 754, 'daddy': 755, 'witch': 756, 'project': 757, 'wide': 758, 'matrix': 759, 'phantom': 760, 'kings': 761, 'royale': 762, 'brother': 763, 'art': 764, 'pay': 765, 'das': 766, 'experiment': 767, 'stone': 768, 'monsters': 769, 'inc': 770, '8': 771, 'mile': 772, 'age': 773, 'q': 774, 'attack': 775, 'whale': 776, 'finding': 777, 'incredible': 778, 'hulk': 779, 'bill': 780, 'oldboy': 781, 'pearl': 782, 'crash': 783, 'sunshine': 784, 'hotel': 785, 'national': 786, 'treasure': 787, 'twelve': 788, 'express': 789, 'played': 790, 'guide': 791, 'bang': 792, 'direction': 793, 'revenge': 794, 'code': 795, 'eight': 796, 'fathers': 797, 'truth': 798, 'ballad': 799, 'ricky': 800, 'gangster': 801, 'freedom': 802, 'book': 803, 'transformers': 804, 'food': 805, 'hunger': 806, 'store': 807, 'point': 808, 'summer': 809, 'blind': 810, 'tattoo': 811, 'devil': 812, 'fallen': 813, 'gift': 814, 'job': 815, 'brothers': 816, 'parking': 817, 'island': 818, '50': 819, 'fab': 820, 'horrible': 821, 'bosses': 822, 'avengers': 823, 'rises': 824, 'reacher': 825, 'being': 826, 'ruby': 827, 'searching': 828, 'ralph': 829, 'zero': 830, 'el': 831, 'olympus': 832, 'edge': 833, 'language': 834, 'guardians': 835, 'wick': 836, 'armstrong': 837, 'secret': 838, 'service': 839, 'lies': 840, 'anymore': 841, 'speak': 842, 'water': 843, 'outside': 844, 'toc': 845, 'box': 846, 'solo': 847, 'foot': 848, 'gun': 849, 'breaks': 850, 'happened': 851, 'velvet': 852, \"groovin'\": 853, 'energy': 854, 'fade': 855, 'everywhere': 856, 'clothes': 857, 'buy': 858, 'lately': 859, \"'bout\": 860, 'driving': 861, 'set': 862, 'punk': 863, 'scene': 864, 'magazine': 865, 'bright': 866, 'phase': 867, 'wave': 868, 'craze': 869, 'anyways': 870, 'whole': 871, 'catch': 872, 'sail': 873, 'fantasy': 874, 'cherish': 875, 'cheating': 876, 'walks': 877, 'pulled': 878, 'machine': 879, 'hanging': 880, 'eh': 881, 'plenty': 882, 'hurt': 883, 'ground': 884, 'treat': 885, 'standing': 886, 'repeating': 887, 'may': 888, 'fool': 889, \"i'd\": 890, 'whisper': 891, 'ear': 892, 'else': 893, \"love's\": 894, 'beside': 895, 'although': 896, 'since': 897, 'blame': 898, 'flies': 899, 'quickly': 900, 'everyday': 901, 'wants': 902, 'dear': 903, 'throughout': 904, 'laughter': 905, \"gon'\": 906, 'pleasure': 907, \"everything's\": 908, 'bed': 909, 'myself': 910, \"yawnin'\": 911, \"stretchin'\": 912, 'jump': 913, \"jumpin'\": 914, 'ahead': 915, 'sometimes': 916, \"he'll\": 917, 'putting': 918, 'wallet': 919, 'lightning': 920, 'lights': 921, 'sight': 922, 'taste': 923, 'lips': 924, 'showers': 925, 'washed': 926, 'cares': 927, 'sunny': 928, 'puts': 929, 'seen': 930, 'listen': 931, 'grass': 932, 'dancing': 933, 'very': 934, 'told': 935, 'eats': 936, 'cheek': 937, \"'em\": 938, 'pure': 939, 'stopped': 940, 'insist': 941, 'bliss': 942, 'wondering': 943, 'means': 944, 'regret': 945, \"couldn't\": 946, 'flight': 947, 'disco': 948, '45': 949, 'shout': 950, '4': 951, 'came': 952, 'saw': 953, 'asked': 954, 'nowhere': 955, 'sitting': 956, 'today': 957, 'thinking': 958, 'ahh': 959, 'oooh': 960, 'jojo': 961, 'left': 962, 'belonged': 963, \"takin'\": 964, \"morning's\": 965, 'himself': 966, \"lovin'\": 967, \"lookin'\": 968, 'lives': 969, 'boom': 970, 'deny': 971, 'deep': 972, 'letting': 973, 'dare': 974, 'soul': 975, 'pages': 976, \"thinkin'\": 977, 'smiled': 978, '“can': 979, 'waitress': 980, 'cocktail': 981, 'bar': 982, 'met': 983, \"you'd\": 984, 'went': 985, 'distance': 986, 'hungry': 987, 'desire': 988, 'higher': 989, 'needs': 990, 'mellencamp': 991, 'jungle': 992, 'cure': 993, 'knocking': 994, 'hears': 995, 'mountains': 996, 'climb': 997, 'winds': 998, 'paper': 999, \"you'se\": 1000, 'trusted': 1001, 'mustard': 1002, 'shit': 1003, 'might': 1004, 'paid': 1005, 'someday': 1006, 'gave': 1007, 'hurry': 1008, 'warm': 1009, 'lifetime': 1010, 'blessed': 1011, 'loved': 1012, 'wonderful': 1013, 'knees': 1014, \"beggin'\": 1015, 'rhythm': 1016, 'survives': 1017, \"isn't\": 1018, 'woah': 1019, 'cries': 1020, 'cradle': 1021, 'swings': 1022, 'jives': 1023, 'shakes': 1024, 'jelly': 1025, 'fish': 1026, 'kinda': 1027, \"'n'\": 1028, 'drives': 1029, 'leaves': 1030, 'sweat': 1031, 'freddie': 1032, 'teachers': 1033, 'phone': 1034, 'beeping': 1035, '1898': 1036, '1903': 1037, 'robbery': 1038, '1914': 1039, 'gertie': 1040, 'dinosaur': 1041, '1915': 1042, 'birth': 1043, 'nation': 1044, '1916': 1045, '1920': 1046, 'cabinet': 1047, 'caligari': 1048, '1921': 1049, 'goat': 1050, '1922': 1051, 'nanook': 1052, 'nosferatu': 1053, '1925': 1054, 'battleship': 1055, 'potemkin': 1056, 'gold': 1057, '1927': 1058, 'jazz': 1059, 'singer': 1060, 'metropolis': 1061, '1928': 1062, 'joan': 1063, 'arc': 1064, 'steamboat': 1065, 'willie': 1066, '1929': 1067, 'camera': 1068, 'chien': 1069, 'andalou': 1070, '1931': 1071, 'enthusiasm': 1072, 'm': 1073, '1932': 1074, '1933': 1075, 'kong': 1076, '1934': 1077, 'triumph': 1078, 'des': 1079, 'willens': 1080, '1935': 1081, 'frankenstein': 1082, '1936': 1083, 'modern': 1084, '1937': 1085, 'grande': 1086, 'illusion': 1087, 'dwarfs': 1088, '1939': 1089, 'washington': 1090, 'wizard': 1091, 'oz': 1092, '1940': 1093, 'wrath': 1094, 'pinocchio': 1095, '1941': 1096, 'kane': 1097, 'dumbo': 1098, '1942': 1099, 'casablanca': 1100, '1943': 1101, 'lassie': 1102, '1946': 1103, 'heures': 1104, \"d'un\": 1105, 'clown': 1106, 'notorious': 1107, '1947': 1108, '34th': 1109, 'st': 1110, '1948': 1111, 'bicycle': 1112, 'thieves': 1113, '1949': 1114, 'mer': 1115, '1950': 1116, 'rashomon': 1117, 'sunset': 1118, 'blvd': 1119, '1951': 1120, '1952': 1121, 'noon': 1122, 'monkey': 1123, 'business': 1124, '1953': 1125, 'peter': 1126, 'pan': 1127, '1954': 1128, 'waterfront': 1129, 'rear': 1130, '1955': 1131, 'tramp': 1132, '1956': 1133, 'flambeur': 1134, '1957': 1135, 'angry': 1136, 'cranes': 1137, '1958': 1138, 'mon': 1139, 'oncle': 1140, '1959': 1141, '400': 1142, 'blows': 1143, 'northwest': 1144, 'sleeping': 1145, '1960': 1146, 'breathless': 1147, 'letter': 1148, 'sent': 1149, 'piano': 1150, '1961': 1151, \"tiffany's\": 1152, 'hustler': 1153, 'est': 1154, '1962': 1155, 'mockingbird': 1156, 'vivre': 1157, 'sa': 1158, '1963': 1159, 'russia': 1160, 'mahanagar': 1161, 'mepris': 1162, 'petit': 1163, 'soldat': 1164, '1964': 1165, 'bande': 1166, 'à': 1167, 'strangelove': 1168, \"day's\": 1169, '1965': 1170, 'dollars': 1171, 'pierrot': 1172, 'fou': 1173, 'music': 1174, '1966': 1175, 'bureaucrat': 1176, 'ugly': 1177, 'steal': 1178, 'million': 1179, 'deuxième': 1180, 'souffle': 1181, 'persona': 1182, '1967': 1183, 'barefoot': 1184, 'bonnie': 1185, 'clyde': 1186, 'chinoise': 1187, 'luke': 1188, 'dozen': 1189, 'graduate': 1190, 'samourai': 1191, 'playtime': 1192, '1968': 1193, 'bullitt': 1194, 'upon': 1195, 'west': 1196, 'stolen': 1197, 'kisses': 1198, 'yellow': 1199, '1969': 1200, 'butch': 1201, 'cassidy': 1202, 'sundance': 1203, '1970': 1204, 'cercle': 1205, 'rouge': 1206, 'conformist': 1207, 'patton': 1208, 'trinity': 1209, '1971': 1210, 'clockwork': 1211, 'french': 1212, 'shaft': 1213, 'willy': 1214, 'wonka': 1215, 'chocolate': 1216, 'factory': 1217, '1972': 1218, 'chinese': 1219, '1973': 1220, 'badlands': 1221, 'young': 1222, '1974': 1223, 'chinatown': 1224, 'pelham': 1225, '1975': 1226, 'dog': 1227, 'afternoon': 1228, 'monty': 1229, 'python': 1230, 'holy': 1231, 'grail': 1232, 'flew': 1233, \"cuckoo's\": 1234, 'nest': 1235, 'dinosaurs': 1236, 'salo': 1237, '120': 1238, 'sodom': 1239, '1976': 1240, 'presidents': 1241, 'rocky': 1242, 'taxi': 1243, '1977': 1244, 'annie': 1245, 'encounters': 1246, '1978': 1247, 'animal': 1248, 'grease': 1249, 'jubilee': 1250, '1979': 1251, 'manhattan': 1252, 'muppet': 1253, 'warriors': 1254, '1980': 1255, 'airplane': 1256, 'elephant': 1257, 'gods': 1258, 'raging': 1259, 'bull': 1260, 'shogun': 1261, 'assassin': 1262, 'strikes': 1263, '1981': 1264, 'raiders': 1265, 'ark': 1266, '1982': 1267, 't': 1268, 'gandhi': 1269, '1983': 1270, 'outsiders': 1271, 'return': 1272, '1984': 1273, 'simple': 1274, 'ghostbusters': 1275, 'temple': 1276, 'doom': 1277, 'karate': 1278, 'natural': 1279, 'texas': 1280, 'terminator': 1281, 'spinal': 1282, 'tap': 1283, '1985': 1284, \"god's\": 1285, '1986': 1286, 'ferris': 1287, \"bueller's\": 1288, 'hoosiers': 1289, '1987': 1290, 'metal': 1291, 'jacket': 1292, 'raising': 1293, 'robocop': 1294, 'princess': 1295, '1988': 1296, 'beetlejuice': 1297, 'cinema': 1298, 'paradiso': 1299, '1989': 1300, 'vacation': 1301, 'poets': 1302, 'society': 1303, 'shrunk': 1304, 'crusade': 1305, '1990': 1306, 'goodfellas': 1307, 'edward': 1308, 'scissorhands': 1309, \"miller's\": 1310, 'crossing': 1311, '1991': 1312, 'barton': 1313, 'fink': 1314, 'hook': 1315, 'lambs': 1316, 'slacker': 1317, '1992': 1318, 'aladdin': 1319, 'glengarry': 1320, 'glen': 1321, 'ross': 1322, 'malcolm': 1323, 'resevoir': 1324, 'cop': 1325, '1993': 1326, 'tale': 1327, 'runnings': 1328, 'fugitive': 1329, 'groundhog': 1330, 'mrs': 1331, 'doubtfire': 1332, 'jurassic': 1333, 'rudy': 1334, 'sandlot': 1335, \"schindler's\": 1336, '1994': 1337, 'ace': 1338, 'ventura': 1339, 'pet': 1340, 'detective': 1341, 'angels': 1342, 'outfield': 1343, 'clerks': 1344, 'dumb': 1345, 'dumber': 1346, 'forrest': 1347, 'gump': 1348, 'drunken': 1349, 'master': 1350, 'leon': 1351, 'professional': 1352, 'pulp': 1353, 'fiction': 1354, 'santa': 1355, 'clause': 1356, 'shawshank': 1357, 'redemption': 1358, '1995': 1359, 'apollo': 1360, '13': 1361, 'friday': 1362, 'goldeneye': 1363, 'indian': 1364, 'cupboard': 1365, 'jumanji': 1366, 'se7en': 1367, 'usual': 1368, 'suspects': 1369, '1996': 1370, 'fargo': 1371, 'gilmore': 1372, 'james': 1373, 'giant': 1374, 'peach': 1375, 'jerry': 1376, 'maguire': 1377, 'primal': 1378, 'fear': 1379, 'shiloh': 1380, 'trainspotting': 1381, '1997': 1382, 'beverly': 1383, 'hills': 1384, 'ninja': 1385, 'donnie': 1386, 'brasco': 1387, 'flubber': 1388, 'gattaca': 1389, 'hunting': 1390, 'hercules': 1391, 'confidential': 1392, 'rainmaker': 1393, 'titanic': 1394, '1998': 1395, 'history': 1396, 'antz': 1397, 'lebowski': 1398, \"bug's\": 1399, 'following': 1400, 'halloweentown': 1401, 'lock': 1402, 'stock': 1403, 'barrels': 1404, 'lola': 1405, 'rennt': 1406, 'rounders': 1407, 'rushmore': 1408, 'truman': 1409, '1999': 1410, 'blair': 1411, 'entrapment': 1412, 'shut': 1413, 'inspector': 1414, 'gadget': 1415, 'magnolia': 1416, 'office': 1417, 'menace': 1418, 'sixth': 1419, 'sense': 1420, 'stuart': 1421, 'tarzan': 1422, '2000': 1423, 'battle': 1424, 'boondock': 1425, 'saints': 1426, 'cast': 1427, 'chicken': 1428, \"emperor's\": 1429, 'gladiator': 1430, 'fidelity': 1431, 'grinch': 1432, 'stole': 1433, 'parents': 1434, 'memento': 1435, 'o': 1436, 'thou': 1437, 'forward': 1438, 'titans': 1439, 'snatch': 1440, 'unbreakable': 1441, '2001': 1442, 'amelie': 1443, 'atanarjuat': 1444, 'atlantis': 1445, 'hawk': 1446, 'furious': 1447, 'hardball': 1448, \"sorcerer's\": 1449, 'mood': 1450, 'legally': 1451, 'blonde': 1452, 'luck': 1453, 'irish': 1454, 'eleven': 1455, 'royal': 1456, 'tenenbaums': 1457, 'training': 1458, 'y': 1459, 'tu': 1460, 'mamá': 1461, 'también': 1462, '2002': 1463, '25th': 1464, 'adaptation': 1465, 'identity': 1466, 'bowling': 1467, 'columbine': 1468, 'god': 1469, 'equlibrium': 1470, 'chamber': 1471, 'ice': 1472, 'infernal': 1473, 'affairs': 1474, 'insomnia': 1475, 'lilo': 1476, 'stitch': 1477, 'mike': 1478, 'fat': 1479, 'greek': 1480, 'wedding': 1481, 'punch': 1482, 'drunk': 1483, 'red': 1484, 'clones': 1485, 'van': 1486, 'wilder': 1487, 'rider': 1488, '2003': 1489, 'bear': 1490, 'bruce': 1491, 'almighty': 1492, 'core': 1493, 'elf': 1494, 'nemo': 1495, 'holes': 1496, 'reloaded': 1497, 'curse': 1498, 'radio': 1499, 'school': 1500, 'tupac': 1501, 'resurrection': 1502, '2004': 1503, 'anchorman': 1504, 'supremacy': 1505, 'dodgeball': 1506, 'eternal': 1507, 'spotless': 1508, 'fahrenheit': 1509, '11': 1510, 'prisoner': 1511, 'azkaban': 1512, 'hellboy': 1513, 'rwanda': 1514, 'incredibles': 1515, 'layer': 1516, 'cake': 1517, 'lemony': 1518, \"snicket's\": 1519, 'series': 1520, 'unfortunate': 1521, 'events': 1522, 'aquatic': 1523, '½': 1524, 'machinist': 1525, 'manchurian': 1526, 'candidate': 1527, 'girls': 1528, 'fockers': 1529, '3000': 1530, 'napolean': 1531, 'dynamite': 1532, 'polar': 1533, 'shaun': 1534, 'sideways': 1535, 'supersize': 1536, 'troy': 1537, '2005': 1538, '40': 1539, 'year': 1540, 'virgin': 1541, 'begins': 1542, 'cache': 1543, 'capote': 1544, 'chronicles': 1545, 'narnia': 1546, 'wardrobe': 1547, 'cinderella': 1548, 'coach': 1549, 'carter': 1550, 'diary': 1551, 'pitch': 1552, 'goblet': 1553, \"hitchhiker's\": 1554, 'kicking': 1555, 'screaming': 1556, 'longest': 1557, 'yard': 1558, 'ms': 1559, 'dylan': 1560, 'pride': 1561, 'prejudice': 1562, 'puffy': 1563, 'chair': 1564, 'squid': 1565, 'iii': 1566, 'sith': 1567, 'thank': 1568, 'v': 1569, 'vendetta': 1570, '2006': 1571, 'apocalypto': 1572, 'babel': 1573, 'borat': 1574, 'click': 1575, 'da': 1576, 'vinci': 1577, 'departed': 1578, 'flags': 1579, 'fountain': 1580, 'inconvenient': 1581, 'invincible': 1582, 'leben': 1583, 'der': 1584, 'anderen': 1585, 'museum': 1586, 'hedge': 1587, 'chest': 1588, 'prestige': 1589, 'pursuit': 1590, 'happyness': 1591, 'snakes': 1592, 'plane': 1593, 'talladega': 1594, 'bobby': 1595, 'film': 1596, 'yet': 1597, 'rated': 1598, 'marshall': 1599, '2007': 1600, '10': 1601, 'yuma': 1602, 'ultimatum': 1603, 'bucket': 1604, 'cashback': 1605, 'proof': 1606, 'diving': 1607, 'bell': 1608, 'butterfly': 1609, 'fracture': 1610, 'writers': 1611, 'order': 1612, 'phoenix': 1613, 'fuzz': 1614, 'juno': 1615, 'michael': 1616, 'clayton': 1617, 'thirteen': 1618, 'persepolis': 1619, \"world's\": 1620, 'priceless': 1621, 'shooter': 1622, 'superbad': 1623, 'tom': 1624, 'petty': 1625, 'heartbreakers': 1626, 'running': 1627, 'zodiac': 1628, '2008': 1629, '21': 1630, 'burn': 1631, 'reading': 1632, 'smart': 1633, 'gran': 1634, 'torino': 1635, 'possible': 1636, 'survival': 1637, 'independent': 1638, 'bruges': 1639, 'inkheart': 1640, 'leatherheads': 1641, 'boleyn': 1642, 'pineapple': 1643, 'quantum': 1644, 'solace': 1645, 'religulous': 1646, 'righteous': 1647, 'role': 1648, 'models': 1649, 'pounds': 1650, 'slumdog': 1651, 'millionaire': 1652, 'synecdoche': 1653, 'taken': 1654, 'traitor': 1655, 'valkyrie': 1656, 'vantage': 1657, 'welle': 1658, '2009': 1659, 'idiots': 1660, '500': 1661, 'adventureland': 1662, 'avatar': 1663, 'fox': 1664, 'halfblood': 1665, 'prince': 1666, 'informant': 1667, 'inglorious': 1668, 'basterds': 1669, 'invention': 1670, 'lying': 1671, 'law': 1672, 'abiding': 1673, 'mother': 1674, 'serious': 1675, 'sherlock': 1676, 'holmes': 1677, 'unbelievers': 1678, '2010': 1679, 'team': 1680, 'beats': 1681, 'rhymes': 1682, 'travels': 1683, 'tribe': 1684, 'quest': 1685, 'swan': 1686, 'eli': 1687, 'chasing': 1688, 'legends': 1689, 'dmt': 1690, 'spirit': 1691, 'molecule': 1692, 'exit': 1693, 'shop': 1694, 'lions': 1695, 'freakonomics': 1696, 'ghost': 1697, 'writer': 1698, 'green': 1699, 'zone': 1700, 'deathly': 1701, 'hollows': 1702, 'pt': 1703, 'inception': 1704, 'jordan': 1705, 'rides': 1706, 'bus': 1707, \"king's\": 1708, 'speech': 1709, 'crossover': 1710, 'trial': 1711, 'allen': 1712, 'iverson': 1713, 'pony': 1714, 'excess': 1715, 'scott': 1716, 'pilgrim': 1717, 'shutter': 1718, 'social': 1719, 'tabloid': 1720, 'unstoppable': 1721, 'sleeps': 1722, 'winning': 1723, 'reggie': 1724, 'miller': 1725, 'knicks': 1726, '2011': 1727, 'adjustment': 1728, 'bureau': 1729, 'catching': 1730, 'hell': 1731, 'cowboys': 1732, 'aliens': 1733, 'detachment': 1734, 'eagle': 1735, 'george': 1736, 'harrison': 1737, 'material': 1738, 'ides': 1739, 'march': 1740, 'jiro': 1741, 'sushi': 1742, 'johnny': 1743, 'english': 1744, 'reborn': 1745, 'limitless': 1746, 'midnight': 1747, 'moneyball': 1748, 'knowledge': 1749, 'rise': 1750, 'planet': 1751, 'apes': 1752, 'shame': 1753, 'source': 1754, 'surviving': 1755, 'progress': 1756, 'unguarded': 1757, 'class': 1758, 'highness': 1759, \"sister's\": 1760, 'sister': 1761, '2012': 1762, 'amazing': 1763, 'announcement': 1764, 'argo': 1765, 'legacy': 1766, 'broke': 1767, 'dictator': 1768, 'unchained': 1769, 'horsemen': 1770, 'frances': 1771, 'ha': 1772, 'games': 1773, 'hunt': 1774, 'intouchables': 1775, 'knuckleball': 1776, 'looper': 1777, 'ledge': 1778, 'iron': 1779, 'fists': 1780, 'mud': 1781, 'moonrise': 1782, 'kingdom': 1783, 'perks': 1784, 'wallflower': 1785, 'beyond': 1786, 'pines': 1787, 'ashes': 1788, 'sparks': 1789, 'safety': 1790, 'guaranteed': 1791, 'samsara': 1792, 'sugar': 1793, 'psychopaths': 1794, 'silver': 1795, 'linings': 1796, 'playbook': 1797, 'skyfall': 1798, 'huntsman': 1799, 'breakers': 1800, 'rap': 1801, 'wreck': 1802, 'bo': 1803, 'thirty': 1804, '2013': 1805, '42': 1806, 'hustle': 1807, 'assault': 1808, 'capitan': 1809, 'begin': 1810, 'warmest': 1811, 'color': 1812, 'broken': 1813, 'phillips': 1814, 'dallas': 1815, 'buyers': 1816, 'department': 1817, 'keeper': 1818, 'causes': 1819, 'don': 1820, 'jon': 1821, 'double': 1822, 'drinking': 1823, 'buddies': 1824, 'frozen': 1825, 'fruitvale': 1826, 'station': 1827, 'squad': 1828, 'gatsby': 1829, \"ol'\": 1830, 'freda': 1831, 'llewyn': 1832, 'davis': 1833, 'steel': 1834, 'university': 1835, 'nebraska': 1836, 'pacific': 1837, 'rim': 1838, 'snowpiercer': 1839, 'slave': 1840, 'wolf': 1841, 'z': 1842, '2014': 1843, 'sniper': 1844, 'birdman': 1845, 'exile': 1846, 'boyhood': 1847, 'ex': 1848, 'machina': 1849, 'frank': 1850, 'grand': 1851, 'budapest': 1852, 'imitation': 1853, 'interstellar': 1854, 'interview': 1855, 'itself': 1856, 'nightcrawler': 1857, 'november': 1858, 'vinyl': 1859, 'weighs': 1860, 'ton': 1861, 'mob': 1862, 'selma': 1863, 'slaying': 1864, 'badger': 1865, 'lance': 1866, 'theory': 1867, 'valley': 1868, 'uprising': 1869, 'garden': 1870, 'eden': 1871, 'whiplash': 1872, '2015': 1873, 'short': 1874, 'bikes': 1875, 'experimenter': 1876, 'hammer': 1877, 'hateful': 1878, 'hate': 1879, 'christian': 1880, 'laettner': 1881, 'inherent': 1882, 'vice': 1883, 'ixcanul': 1884, 'kingsman': 1885, 'max': 1886, 'fury': 1887, 'n': 1888, 'c': 1889, 'meru': 1890, 'mississippi': 1891, 'grind': 1892, 'revenant': 1893, 'sicario': 1894, 'sole': 1895, 'spectre': 1896, 'spotlight': 1897, 'stanford': 1898, 'prison': 1899, 'vii': 1900, 'force': 1901, 'awakens': 1902, 'trainwreck': 1903, '2016': 1904, 'abacus': 1905, 'small': 1906, 'jail': 1907, 'arrival': 1908, 'believeland': 1909, 'betting': 1910, 'america': 1911, 'civil': 1912, 'catholics': 1913, 'convicts': 1914, 'chi': 1915, 'raq': 1916, 'grandpa': 1917, 'doc': 1918, 'darryl': 1919, 'equity': 1920, 'beasts': 1921, 'fences': 1922, 'dory': 1923, 'contact': 1924, 'tribes': 1925, 'amazon': 1926, 'founder': 1927, 'genius': 1928, 'marx': 1929, 'neighbor': 1930, 'hail': 1931, 'caesar': 1932, 'negro': 1933, 'imperium': 1934, 'sloane': 1935, 'monster': 1936, 'oasis': 1937, 'supersonic': 1938, 'rogue': 1939, 'sand': 1940, 'storm': 1941, 'snowden': 1942, 'sour': 1943, 'zootopia': 1944, '2017': 1945, 'sick': 1946, '2049': 1947, 'breadwinner': 1948, 'dawn': 1949, 'disaster': 1950, 'artist': 1951, 'dismissed': 1952, 'dolores': 1953, 'dunkirk': 1954, 'florida': 1955, \"gerald's\": 1956, 'roger': 1957, 'icarus': 1958, 'joshua': 1959, 'teenager': 1960, 'superpower': 1961, 'logan': 1962, 'meyerowitz': 1963, 'stories': 1964, 'mudbound': 1965, 'mustang': 1966, 'roosevelt': 1967, 'nile': 1968, 'hilton': 1969, 'incident': 1970, 'trials': 1971, 'press': 1972, 'okja': 1973, 'perfect': 1974, 'bid': 1975, 'contestant': 1976, 'thread': 1977, 'roman': 1978, 'j': 1979, 'israel': 1980, 'esq': 1981, 'ridge': 1982, 'shape': 1983, 'homecoming': 1984, 'split': 1985, 'billboards': 1986, 'ebbing': 1987, 'missouri': 1988, 'voyeur': 1989, 'wasted': 1990, 'wheelman': 1991, 'meeting': 1992, 'wilson': 1993, 'river': 1994, 'win': 1995, '2018': 1996, 'annihilation': 1997, 'infinity': 1998, 'buster': 1999, 'scruggs': 2000, 'curve': 2001, 'blackkklansman': 2002, 'panther': 2003, 'los': 2004, 'insomnes': 2005, 'delerium': 2006, 'eighth': 2007, 'grade': 2008, 'reformed': 2009, 'hereditary': 2010, 'beale': 2011, 'isle': 2012, 'steady': 2013, 'habits': 2014, 'trace': 2015, 'per': 2016, 'square': 2017, 'minding': 2018, 'gap': 2019, 'fallout': 2020, 'nappily': 2021, 'sons': 2022, 'rachel': 2023, 'divide': 2024, 'internet': 2025, 'roma': 2026, 'shoplifters': 2027, 'bother': 2028, \"they'll\": 2029, 'trader': 2030, 'widows': 2031, 'wrinkle': 2032, '2019': 2033, 'harnessed': 2034, 'futile': 2035, 'stupid': 2036, 'gesture': 2037, 'fyre': 2038, 'greta': 2039, 'killings': 2040, 'sam': 2041, 'cooke': 2042, 'unbanned': 2043, 'aj1': 2044, 'buzzsaw': 2045, 'intro': 2046, 'problem': 2047, 'rely': 2048, 'answer': 2049, 'peace': 2050, 'understanding': 2051, 'bones': 2052, 'nearly': 2053, 'wearing': 2054, \"tie's\": 2055, 'tab': 2056, 'collars': 2057, 'welcome': 2058, 'jive': 2059, \"hidin'\": 2060, 'trashy': 2061, 'style': 2062, 'tires': 2063, 'cruise': 2064, 'nowadays': 2065, 'sentimental': 2066, \"bet's\": 2067, 'continental': 2068, 'funk': 2069, 'junk': 2070, 'papers': 2071, 'band': 2072, 'aimed': 2073, 'average': 2074, 'teen': 2075, 'pink': 2076, 'sidewinders': 2077, 'pants': 2078, 'beau': 2079, 'brummel': 2080, 'half': 2081, 'speakers': 2082, 'mileage': 2083, 'cheap': 2084, 'sneakers': 2085, 'crowd': 2086, 'seeing': 2087, \"'a'\": 2088, 'student': 2089, 'fashion': 2090, 'looks': 2091, 'lotta': 2092, 'building': 2093, 'mistake': 2094, 'planets': 2095, 'align': 2096, 'rare': 2097, 'anytime': 2098, 'heyyyyyyyy': 2099, 'paradise': 2100, 'tranquility': 2101, 'pretend': 2102, 'joy': 2103, 'innocence': 2104, 'gets': 2105, 'reverie': 2106, 'symphony': 2107, 'sanity': 2108, 'serenity': 2109, 'charm': 2110, 'appeal': 2111, 'sun': 2112, 'continues': 2113, 'shine': 2114, 'bottom': 2115, 'steve': 2116, 'warily': 2117, 'brim': 2118, 'low': 2119, 'guns': 2120, 'kicked': 2121, 'satisfied': 2122, 'bite': 2123, 'ow': 2124, 'cheat': 2125, 'ay': 2126, 'lonelier': 2127, 'kissed': 2128, 'narrow': 2129, 'eternally': 2130, 'measure': 2131, 'planned': 2132, \"other's\": 2133, 'oceans': 2134, 'armor': 2135, 'yours': 2136, 'softly': 2137, 'waited': 2138, 'early': 2139, 'tease': 2140, 'dedication': 2141, 'tumble': 2142, 'outta': 2143, 'kitchen': 2144, 'pour': 2145, 'cup': 2146, 'ambition': 2147, 'shower': 2148, \"pumpin'\": 2149, 'traffic': 2150, 'folks': 2151, 'devotion': 2152, 'deserve': 2153, 'fair': 2154, 'promotion': 2155, 'swear': 2156, 'mmmmm': 2157, 'shatter': 2158, 'ladder': 2159, 'boat': 2160, 'ship': 2161, \"tide's\": 2162, 'shadow': 2163, 'shadows': 2164, 'tone': 2165, 'voice': 2166, \"didn't\": 2167, 'bled': 2168, 'instead': 2169, 'coiled': 2170, 'hissing': 2171, 'breathing': 2172, 'comatose': 2173, 'hypnotized': 2174, 'stepping': 2175, 'lightly': 2176, 'sacroiliac': 2177, 'spineless': 2178, 'movement': 2179, 'sightless': 2180, 'solitude': 2181, 'finger': 2182, 'popping': 2183, '24': 2184, 'shopping': 2185, 'freddy': 2186, 'dj': 2187, 'spinning': 2188, 'françois': 2189, \"c'est\": 2190, 'pas': 2191, 'dude': 2192, 'lands': 2193, 'shoots': 2194, 'cadillacs': 2195, 'lincolns': 2196, 'mercurys': 2197, 'subaru': 2198, 'tour': 2199, 'sewer': 2200, 'strain': 2201, 'brain': 2202, 'paint': 2203, 'tv': 2204, \"tv's\": 2205, 'hassle': 2206, 'human': 2207, 'race': 2208, 'hop': 2209, 'blast': 2210, 'guitars': 2211, 'listening': 2212, \"friends'\": 2213, 'advice': 2214, 'doing': 2215, \"mornin'\": 2216, 'seems': 2217, 'slowly': 2218, \"me's\": 2219, 'restaurant': 2220, \"dreamin'\": 2221, 'constantly': 2222, 'steps': 2223, 'amazingly': 2224, 'earn': 2225, 'volume': 2226, \"wasn't\": 2227, 'peep': 2228, 'wanted': 2229, 'famous': 2230, 'screen': 2231, 'closer': 2232, 'risk': 2233, 'sad': 2234, 'walking': 2235, 'guy': 2236, 'sing': 2237, 'prized': 2238, 'possessions': 2239, 'wear': 2240, 'loner': 2241, 'tucson': 2242, 'california': 2243, 'tripper': 2244, 'tears': 2245, 'cried': 2246, \"heart's\": 2247, 'delay': 2248, 'hardly': 2249, 'yesterday': 2250, 'jessie': 2251, \"something's\": 2252, 'define': 2253, 'cute': 2254, 'probably': 2255, 'moot': 2256, 'mirror': 2257, \"wonderin'\": 2258, 'supposed': 2259, 'breath': 2260, 'begun': 2261, 'ohhhhhh': 2262, 'charms': 2263, 'woow': 2264, 'turns': 2265, 'closing': 2266, \"'cross\": 2267, 'yourself': 2268, \"what've\": 2269, 'arthur': 2270, 'pleases': 2271, \"master's\": 2272, 'toys': 2273, 'showing': 2274, 'laughing': 2275, 'blowing': 2276, 'overlooks': 2277, 'senses': 2278, 'hurting': 2279, 'front': 2280, 'spy': 2281, 'slip': 2282, 'disguise': 2283, 'willing': 2284, 'overtime': 2285, 'draw': 2286, 'twice': 2287, 'complete': 2288, 'snowflakes': 2289, 'stain': 2290, 'pain': 2291, 'girly': 2292, 'slipped': 2293, 'notes': 2294, 'desk': 2295, 'shy': 2296, \"shakin'\": 2297, 'shoes': 2298, 'whenever': 2299, 'flashed': 2300, 'blues': 2301, 'passed': 2302, 'soft': 2303, 'fuzzy': 2304, 'sweaters': 2305, 'magical': 2306, 'negligee': 2307, 'okay': 2308, 'hope': 2309, \"issue's\": 2310, 'motel': 2311, 'ripped': 2312, 'stripped': 2313, 'yea': 2314, \"dancin'\": 2315, '17': 2316, \"playin'\": 2317, 'favorite': 2318, '“that': 2319, 'matter”': 2320, \"“'cause\": 2321, 'same”': 2322, '”': 2323, 'alone”': 2324, \"workin'\": 2325, 'picked': 2326, 'shook': 2327, 'later': 2328, 'success': 2329, 'either': 2330, 'chances': 2331, 'happens': 2332, 'trade': 2333, 'grip': 2334, 'past': 2335, 'tough': 2336, 'staying': 2337, 'stack': 2338, 'odds': 2339, 'skill': 2340, 'top': 2341, 'guts': 2342, \"spinnin'\": 2343, 'stops': 2344, 'sigh': 2345, 'laugh': 2346, 'glove': 2347, 'caress': 2348, 'silk': 2349, 'satin': 2350, 'leather': 2351, 'lace': 2352, 'panties': 2353, \"angel's\": 2354, 'sighs': 2355, 'lovers': 2356, 'holiday': 2357, 'kept': 2358, 'swept': 2359, \"one'll\": 2360, 'diane': 2361, 'cougar': 2362, 'jailhouse': 2363, 'elvis': 2364, 'presley': 2365, \"jennifer's\": 2366, 'hole': 2367, 'jeremy': 2368, 'jerk': 2369, 'larks': 2370, 'jerusalem': 2371, 'emerson': 2372, 'lake': 2373, 'palmer': 2374, 'jolene': 2375, 'dolly': 2376, 'parton': 2377, 'jumper': 2378, 'rolling': 2379, 'stones': 2380, 'stevie': 2381, 'neil': 2382, 'larsen': 2383, 'gigolo': 2384, 'louis': 2385, 'heaven': 2386, \"'way\": 2387, 'tired': 2388, 'invade': 2389, 'hide': 2390, 'tip': 2391, 'across': 2392, 'knock': 2393, 'trapped': 2394, 'harm': 2395, 'mental': 2396, 'health': 2397, 'childhood': 2398, 'feelings': 2399, 'follow': 2400, 'oah': 2401, 'brings': 2402, 'their': 2403, \"life's\": 2404, 'bathin’': 2405, 'ape': 2406, 'sweatsuit': 2407, 'cartier': 2408, 'glasses': 2409, 'walked': 2410, 'intense': 2411, 'riding': 2412, 'temps': 2413, 'ain’t': 2414, 'convinced': 2415, 'bet': 2416, 'rake': 2417, 'niggas': 2418, 'ghetto': 2419, 'swim': 2420, 'already': 2421, 'diamonds': 2422, 'son': 2423, 'heir': 2424, 'wealthy': 2425, 'healthy': 2426, 'gucci': 2427, 'polo': 2428, 'picture': 2429, 'uh': 2430, 'huh': 2431, 'february': 2432, 'chanel': 2433, 'bow': 2434, 'match': 2435, 'attached': 2436, '2x': 2437, 'y’all': 2438, 'businesses': 2439, 'apprenticeship': 2440, 'crenshaw': 2441, 'liquor': 2442, 'sydney': 2443, 'lyons': 2444, 'don’t': 2445, 'quit': 2446, 'ap': 2447, 'flooded': 2448, 'spent': 2449, 'hoes': 2450, 'repercussions': 2451, '80': 2452, 'dawg': 2453, 'hit': 2454, 'justin': 2455, 'dues': 2456, 'rocking': 2457, 'songs': 2458, 'thong': 2459, 'church': 2460, 'nyc': 2461, 'skyline': 2462, 'turnpike': 2463, 'sunsets': 2464, 'truly': 2465, 'goodnight': 2466, 'chills': 2467, \"who's\": 2468, 'damn': 2469, 'lean': 2470, 'type': 2471, 'getting': 2472, 'cat': 2473, 'tamed': 2474, 'purr': 2475, 'jaguar': 2476, \"money's\": 2477, 'deadly': 2478, 'apart': 2479, 'whoa': 2480, 'traveling': 2481, 'fried': 2482, 'kombi': 2483, 'hippie': 2484, 'trail': 2485, 'zombie': 2486, 'strange': 2487, 'nervous': 2488, 'buying': 2489, 'bread': 2490, 'brussels': 2491, 'six': 2492, 'muscles': 2493, 'vegemite': 2494, 'sandwich': 2495, 'beer': 2496, 'flow': 2497, 'chunder': 2498, \"lyin'\": 2499, 'den': 2500, 'bombay': 2501, 'slack': 2502, 'jaw': 2503, 'trying': 2504, 'tempt': 2505, 'drums': 2506, 'echoing': 2507, 'whispers': 2508, 'quiet': 2509, 'moonlit': 2510, 'reflect': 2511, 'towards': 2512, 'salvation': 2513, 'hoping': 2514, 'forgotten': 2515, 'ancient': 2516, 'melodies': 2517, 'grow': 2518, 'restless': 2519, 'longing': 2520, 'solitary': 2521, 'company': 2522, 'kilimanjaro': 2523, 'above': 2524, 'serengeti': 2525, 'seek': 2526, 'frightened': 2527, 'become': 2528, 'realize': 2529, 'second': 2530, 'romance': 2531, 'slide': 2532, \"spendin'\": 2533, 'weather': 2534, 'brand': 2535, 'chill': 2536, 'evening': 2537}\n",
            "Day : 66\n"
          ]
        }
      ],
      "source": [
        "# Split into each word. Kera's tokenizer also ranges them ( 1 is the most frequent word) This text has 5168unique words\n",
        "tokenizer=Tokenizer ()\n",
        "tokenizer.fit_on_texts(cor)\n",
        "word_index=tokenizer.word_index\n",
        "total_unique_words=len(tokenizer.word_index) + 1\n",
        "print(total_unique_words)\n",
        "print(word_index)\n",
        "print (\"Day :\", tokenizer.word_index['day'])"
      ]
    },
    {
      "cell_type": "markdown",
      "metadata": {
        "id": "cTQhK5a5lqX6"
      },
      "source": [
        "Since our dataset has no labels, we use n-grams for splitting our data in order to derive the labels. An n_gram is a sequence of words (n) sizes long. Each sentence will be converted into a sequence with their respective tokens. More specifically, we iterated over each tokenized snippet to create n_grams the size of n_gram+1 sequence map. We achieved it by creating an empty list which holds our n_gram sequences. Next, we iterate over our corpus of untokenized snippets and apply the “texts_to_sequences” method to each untokenized snippet. The “texts_to_sequences” method converts each snippet to its tokenized version. By calling tokenizer method texts_to_sequences we convert sequences of text to sequences of numbers. The resulting seqences can then be used to generate n_gram sequences. Next, we iterate over each token beginning with the second (index=1) throught all remaining tokens. At each iteration, we append the sequence of n_grams to input_sequences and expand the n_gram+1.\n"
      ]
    },
    {
      "cell_type": "code",
      "execution_count": null,
      "metadata": {
        "colab": {
          "base_uri": "https://localhost:8080/"
        },
        "id": "bUDYAxXQzi67",
        "outputId": "86c898ad-f114-4773-c99c-2f5b2ee0db13"
      },
      "outputs": [
        {
          "output_type": "stream",
          "name": "stdout",
          "text": [
            "15438\n"
          ]
        }
      ],
      "source": [
        "# our dataset doesnot have labeled values, so we will use n_gram\n",
        "# we will apply the text_to_sequences method to each snippet.\n",
        "input_sequences=[]\n",
        "for line in cor:\n",
        "  token_list=tokenizer.texts_to_sequences([line])[0]\n",
        "  for i in range(1, len(token_list)):\n",
        "      n_gram_seqs=token_list[:i+1]\n",
        "      input_sequences.append(n_gram_seqs)\n",
        "print(len(input_sequences))\n",
        "#print(input_sequences)"
      ]
    },
    {
      "cell_type": "markdown",
      "metadata": {
        "id": "82-dU-n2mFqF"
      },
      "source": [
        "Next, we formatted each sequence of n_grams to be of the same length. Infact, we made a sequence of n_grams with zeros to the length to the longest n_gram=  Max_seq_length This is called padding of n-grams. The “pad_sequences” method will add zeros prior to our tokens  = 3758\n",
        "It prints our  (2511 values of) features and (the 2512nd )labels for the first 2 rows. "
      ]
    },
    {
      "cell_type": "code",
      "execution_count": null,
      "metadata": {
        "colab": {
          "base_uri": "https://localhost:8080/"
        },
        "id": "gbonNiKj18Ni",
        "outputId": "f1711e62-20b9-4d09-cfb5-2c7d2083ef87"
      },
      "outputs": [
        {
          "output_type": "stream",
          "name": "stdout",
          "text": [
            "2512\n",
            "[[0 0 0 ... 0 3 8]\n",
            " [0 0 0 ... 3 8 2]]\n"
          ]
        }
      ],
      "source": [
        "#n_grams should be on the same length \n",
        "max_sequence_len=max([len(x) for x in input_sequences])\n",
        "input_seqs=np.array(pad_sequences (input_sequences, maxlen=max_sequence_len, padding=\"pre\"))\n",
        "print(max_sequence_len)  \n",
        "print(input_seqs[:2]) # samples\n"
      ]
    },
    {
      "cell_type": "markdown",
      "metadata": {
        "id": "purjBvlrmy9S"
      },
      "source": [
        "use a pre-trained word embeddings model from Stanford University named “GloVe” (Global Vectors for Word Representation) and we will use the 50-dimensional version. \n",
        "Word embeddings enable us to represent words in a n_dimensional space, where similar in meaning words are close in space.\n",
        "Glove dictionary contains the word/character as the key and a 50-dimensional array as the value.\n",
        "\n"
      ]
    },
    {
      "cell_type": "code",
      "execution_count": null,
      "metadata": {
        "id": "WU4xSDkClzZ-"
      },
      "outputs": [],
      "source": [
        "# we will make use of a pre-trained word embeddings model \"Glove\" 6B 50 dimensional arrays\n",
        "path = '/content/gdrive/MyDrive/Colab Notebooks/glove.6B.50d.txt'\n",
        "embeddings_index={}\n",
        "with open(path) as f:\n",
        " for line in f:\n",
        "    values=line.split()\n",
        "    word=values[0]\n",
        "    coeffs=np.array(values[1:], dtype='float32')\n",
        "    embeddings_index[word] = coeffs\n",
        "    #dict(list(embeddings_index.items())[0:2])"
      ]
    },
    {
      "cell_type": "code",
      "execution_count": null,
      "metadata": {
        "id": "GWiGjVOUK-zD"
      },
      "outputs": [],
      "source": [
        ""
      ]
    },
    {
      "cell_type": "markdown",
      "metadata": {
        "id": "W2pmXU6snFbn"
      },
      "source": [
        "Create a matrix containing the 50-dimensional arrays of Glove x the unique words of our vocabulary. We create a matrix of zeros with the shape of 2356 ( our unique words) by 50(50-dimensional arrays of Glove) . Then iterate over the “word_index” which contains the unique words in our corpus as the keys and their corresponding tokens as the values. At each iteration through the word_index dictionary, we fetched the corresponding GloVe embeddings save it in “embeddings_index” and update the embeddings_matrix"
      ]
    },
    {
      "cell_type": "code",
      "execution_count": null,
      "metadata": {
        "id": "HVUeltAD5ie_"
      },
      "outputs": [],
      "source": [
        "#matrix with 5168 unique words X 50 dimensional arrays of Glove\n",
        "embeddings_matrix = np.zeros((total_unique_words, 50))\n",
        "for word, i in word_index.items():\n",
        "  embedding_vector = embeddings_index.get(word)\n",
        "  if embedding_vector is not None:\n",
        "    embeddings_matrix[i] = embedding_vector;"
      ]
    },
    {
      "cell_type": "markdown",
      "metadata": {
        "id": "I54YKw-1nU5V"
      },
      "source": [
        "Built a model consisting of an embedding layer,( our input layer) 3 LSTM layers, 3 dropout layers, and a fully connected Dense layer. The first layer being the Embedding layer enabled us to utilize the pre-trained GloVe word embeddings coefficients/weights. The embedding layer requires an input_dim of the total number of unique words in our corpus and an output_dim which specifies the number of word embedding dimensions we are waiting. We passed the embeddings_matrix into the weights argument in order to use the GloVe weights and set the trainable argument to “False”, otherwise, we’ll retrain the GloVe weights. Finally, we’ll set the input_length parameter to “max_seq_length -1”..... We used the dropout method for regularization. That means that during training randomly we set some activations to zero in each iteration. A Long Short-Term Memory (LSTM) model learns the relationships among words and allows the important relationships to propagate through the network. The LSTM core model contains LSTM cells that processes one word at a time and assigns probabilities of the most possible values for the next word in the sentence. We used a Bidirectional LSTM which learns the relationships among words reading the sentence from left-to-right and right-to-left. We use LSTM instead of RNN, because though RNN can connect past data to the present information; it gives some problem in long term dependencies. Moreover RNN suffer from vanishing and exploiting gradients problem. That is also the reason why we used Rely, an activation functions that don’t “squash” z into a limited range. We added 2 dropout layers (drop 20%) to help with the overfitting problem. We chose Adam as our optimizer and categorical_crossentropy as our loss function, since we have a multi-class classification problem. Adam (Adaptive Moment Estimation) which is adapting the learning rate to particular weights. It uses exponential moving average of the gradient and the square gradient.\n"
      ]
    },
    {
      "cell_type": "code",
      "execution_count": null,
      "metadata": {
        "colab": {
          "base_uri": "https://localhost:8080/",
          "height": 865
        },
        "id": "Rgysn70XVQVv",
        "outputId": "2c88ba84-5146-4154-f4cc-0aac42c4ee92"
      },
      "outputs": [
        {
          "output_type": "execute_result",
          "data": {
            "text/plain": [
              "<IPython.core.display.Image object>"
            ],
            "image/png": "[encoded data removed]"
          },
          "metadata": {},
          "execution_count": 13
        }
      ],
      "source": [
        "# Build the model with Bidirectional LSTM\n",
        "K.clear_session()\n",
        "model=tf.keras.Sequential([\n",
        "    tf.keras.layers.Embedding(input_dim=total_unique_words, output_dim=50, weights=[embeddings_matrix], input_length=max_sequence_len-1, trainable=False), \n",
        "      tf.keras.layers.Bidirectional(tf.keras.layers.LSTM(256, return_sequences=True)), \n",
        "      tf.keras.layers.Dropout(0.2),\n",
        "      tf.keras.layers.Bidirectional(tf.keras.layers.LSTM(256)),\n",
        "      tf.keras.layers.Dropout(0.2),\n",
        "      tf.keras.layers.Dense(128, activation='relu'),\n",
        "      tf.keras.layers.Dense(total_unique_words, activation=\"softmax\")])\n",
        "\n",
        "model.compile(optimizer=Adam(learning_rate=0.001), loss=\"categorical_crossentropy\", metrics=['accuracy'])\n",
        "\n",
        "tf.keras.utils.plot_model(model,show_shapes=True)\n"
      ]
    },
    {
      "cell_type": "markdown",
      "metadata": {
        "id": "irma675JIOOf"
      },
      "source": [
        "Fit our model with the x and y values. Batches of 32 and 20 training times is used. Within the training set, 20% of the data is reserved for model validation during training (validation_split = 0.2). \n",
        "We Could have created checkpoint to save the best values of all the parameters of the model."
      ]
    },
    {
      "cell_type": "code",
      "execution_count": null,
      "metadata": {
        "colab": {
          "base_uri": "https://localhost:8080/"
        },
        "id": "myVNIyVxYdgE",
        "outputId": "c1f8d4d7-4345-425b-ecc8-4fba28090095"
      },
      "outputs": [
        {
          "output_type": "stream",
          "name": "stdout",
          "text": [
            "Epoch 1/30\n",
            "386/386 [==============================] - 268s 666ms/step - loss: 6.3660 - accuracy: 0.0558 - val_loss: 6.5090 - val_accuracy: 0.0512\n",
            "Epoch 2/30\n",
            "386/386 [==============================] - 256s 665ms/step - loss: 5.9138 - accuracy: 0.0709 - val_loss: 6.6333 - val_accuracy: 0.0450\n",
            "Epoch 3/30\n",
            "386/386 [==============================] - 258s 668ms/step - loss: 5.7084 - accuracy: 0.0823 - val_loss: 6.7609 - val_accuracy: 0.0486\n",
            "Epoch 4/30\n",
            "386/386 [==============================] - 258s 668ms/step - loss: 5.5040 - accuracy: 0.0868 - val_loss: 6.8300 - val_accuracy: 0.0589\n",
            "Epoch 5/30\n",
            "386/386 [==============================] - 257s 667ms/step - loss: 5.2975 - accuracy: 0.0968 - val_loss: 6.8278 - val_accuracy: 0.0508\n",
            "Epoch 6/30\n",
            "386/386 [==============================] - 257s 667ms/step - loss: 5.0534 - accuracy: 0.1134 - val_loss: 6.8556 - val_accuracy: 0.0538\n",
            "Epoch 7/30\n",
            "386/386 [==============================] - 257s 665ms/step - loss: 4.8085 - accuracy: 0.1385 - val_loss: 7.0029 - val_accuracy: 0.0570\n",
            "Epoch 8/30\n",
            "386/386 [==============================] - 257s 665ms/step - loss: 4.5470 - accuracy: 0.1639 - val_loss: 7.2090 - val_accuracy: 0.0680\n",
            "Epoch 9/30\n",
            "386/386 [==============================] - 257s 667ms/step - loss: 4.2929 - accuracy: 0.1973 - val_loss: 7.5054 - val_accuracy: 0.0557\n",
            "Epoch 10/30\n",
            "386/386 [==============================] - 256s 664ms/step - loss: 4.0421 - accuracy: 0.2272 - val_loss: 7.8016 - val_accuracy: 0.0593\n",
            "Epoch 11/30\n",
            "386/386 [==============================] - 257s 667ms/step - loss: 3.7873 - accuracy: 0.2591 - val_loss: 8.0433 - val_accuracy: 0.0444\n",
            "Epoch 12/30\n",
            "386/386 [==============================] - 257s 665ms/step - loss: 3.5494 - accuracy: 0.2871 - val_loss: 8.1914 - val_accuracy: 0.0541\n",
            "Epoch 13/30\n",
            "386/386 [==============================] - 256s 664ms/step - loss: 3.3206 - accuracy: 0.3143 - val_loss: 8.5568 - val_accuracy: 0.0531\n",
            "Epoch 14/30\n",
            "386/386 [==============================] - 257s 667ms/step - loss: 3.1047 - accuracy: 0.3383 - val_loss: 8.8984 - val_accuracy: 0.0479\n",
            "Epoch 15/30\n",
            "386/386 [==============================] - 258s 667ms/step - loss: 2.8996 - accuracy: 0.3653 - val_loss: 9.1517 - val_accuracy: 0.0421\n",
            "Epoch 16/30\n",
            "386/386 [==============================] - 257s 666ms/step - loss: 2.6988 - accuracy: 0.3928 - val_loss: 9.6972 - val_accuracy: 0.0502\n",
            "Epoch 17/30\n",
            "386/386 [==============================] - 258s 670ms/step - loss: 2.5091 - accuracy: 0.4244 - val_loss: 9.7168 - val_accuracy: 0.0415\n",
            "Epoch 18/30\n",
            "386/386 [==============================] - 258s 669ms/step - loss: 2.3310 - accuracy: 0.4534 - val_loss: 10.2118 - val_accuracy: 0.0492\n",
            "Epoch 19/30\n",
            "386/386 [==============================] - 259s 670ms/step - loss: 2.1617 - accuracy: 0.4833 - val_loss: 10.4857 - val_accuracy: 0.0470\n",
            "Epoch 20/30\n",
            "386/386 [==============================] - 258s 668ms/step - loss: 1.9937 - accuracy: 0.5135 - val_loss: 10.8729 - val_accuracy: 0.0499\n",
            "Epoch 21/30\n",
            "386/386 [==============================] - 257s 666ms/step - loss: 1.8504 - accuracy: 0.5431 - val_loss: 11.4391 - val_accuracy: 0.0463\n",
            "Epoch 22/30\n",
            "386/386 [==============================] - 258s 668ms/step - loss: 1.6966 - accuracy: 0.5752 - val_loss: 11.5709 - val_accuracy: 0.0463\n",
            "Epoch 23/30\n",
            "386/386 [==============================] - 257s 666ms/step - loss: 1.5776 - accuracy: 0.5993 - val_loss: 12.3916 - val_accuracy: 0.0460\n",
            "Epoch 24/30\n",
            "386/386 [==============================] - 257s 665ms/step - loss: 1.4504 - accuracy: 0.6243 - val_loss: 12.4968 - val_accuracy: 0.0473\n",
            "Epoch 25/30\n",
            "386/386 [==============================] - 258s 669ms/step - loss: 1.3564 - accuracy: 0.6457 - val_loss: 12.7306 - val_accuracy: 0.0473\n",
            "Epoch 26/30\n",
            "386/386 [==============================] - 258s 668ms/step - loss: 1.2474 - accuracy: 0.6685 - val_loss: 12.9489 - val_accuracy: 0.0470\n",
            "Epoch 27/30\n",
            "386/386 [==============================] - 258s 669ms/step - loss: 1.1327 - accuracy: 0.6985 - val_loss: 13.4275 - val_accuracy: 0.0505\n",
            "Epoch 28/30\n",
            "386/386 [==============================] - 258s 669ms/step - loss: 1.0550 - accuracy: 0.7132 - val_loss: 13.8211 - val_accuracy: 0.0424\n",
            "Epoch 29/30\n",
            "386/386 [==============================] - 259s 670ms/step - loss: 0.9701 - accuracy: 0.7402 - val_loss: 13.9608 - val_accuracy: 0.0470\n",
            "Epoch 30/30\n",
            "386/386 [==============================] - 258s 669ms/step - loss: 0.9010 - accuracy: 0.7535 - val_loss: 14.4061 - val_accuracy: 0.0470\n"
          ]
        }
      ],
      "source": [
        "# Train the model\n",
        "x_values, labels = input_seqs[:, :-1], input_seqs[:,-1]\n",
        "y_values = tf.keras.utils.to_categorical(labels,num_classes=total_unique_words)\n",
        "\n",
        "history = model.fit(x_values, y_values, epochs=30, validation_split=0.2, verbose=1, batch_size=32)\n"
      ]
    },
    {
      "cell_type": "code",
      "execution_count": null,
      "metadata": {
        "id": "eWhUI7yY1hjQ"
      },
      "outputs": [],
      "source": [
        ""
      ]
    },
    {
      "cell_type": "markdown",
      "metadata": {
        "id": "oWt3aM0vol0z"
      },
      "source": [
        "Check our model in snippets which it hasn’t seen before. Seed the model with unseen snippets and see the model’s prediction. for _ in... this is like a place holder, which upholds the syntax. We use it when we don't want to use the variable, so we leave it empty. Next, we do the same things to the input as we did when training the model. Then gets the word corresponding the value predicted, converting from numeric to string again"
      ]
    },
    {
      "cell_type": "code",
      "execution_count": null,
      "metadata": {
        "id": "N_W7gW381bLe",
        "colab": {
          "base_uri": "https://localhost:8080/",
          "height": 35
        },
        "outputId": "660e44f1-6be6-4d27-c8af-e1658a044dff"
      },
      "outputs": [
        {
          "output_type": "execute_result",
          "data": {
            "text/plain": [
              "'if you want to know what the reason is I only smile when i Lie, then i will though rock with'"
            ],
            "application/vnd.google.colaboratory.intrinsic+json": {
              "type": "string"
            }
          },
          "metadata": {},
          "execution_count": 15
        }
      ],
      "source": [
        "\n",
        "def complete_this_song(seed_text, next_words):\n",
        "    for _ in range(next_words):\n",
        "        token_list = tokenizer.texts_to_sequences([seed_text])[0]\n",
        "        token_list = pad_sequences([token_list], maxlen=max_sequence_len-1, padding='pre')\n",
        "        predicted = np.argmax(model.predict(token_list), axis=-1)\n",
        "        for word, index in tokenizer.word_index.items():\n",
        "            if index == predicted:\n",
        "                output_word = word   \n",
        "                break\n",
        "        seed_text += \" \" + output_word\n",
        "    return seed_text\n",
        "complete_this_song(\"if you want to know what the reason is I only smile when i Lie, then i will\", 3)\n"
      ]
    },
    {
      "cell_type": "markdown",
      "source": [
        "Actual lyrics:  if you want to know what the reason is I only smile when i Lie, then i will tell you why"
      ],
      "metadata": {
        "id": "EqEEJqve5nVq"
      }
    },
    {
      "cell_type": "code",
      "source": [
        "complete_this_song(\"We don't need no education We don't need no thought control No dark sarcasm in the classroom Teacher, \", 3)"
      ],
      "metadata": {
        "id": "fYW8KSv0zqeg",
        "colab": {
          "base_uri": "https://localhost:8080/",
          "height": 35
        },
        "outputId": "f21c0b8f-f173-4e30-8de5-139bfcb5eab6"
      },
      "execution_count": null,
      "outputs": [
        {
          "output_type": "execute_result",
          "data": {
            "text/plain": [
              "\"We don't need no education We don't need no thought control No dark sarcasm in the classroom Teacher,  leave them kids\""
            ],
            "application/vnd.google.colaboratory.intrinsic+json": {
              "type": "string"
            }
          },
          "metadata": {},
          "execution_count": 16
        }
      ]
    },
    {
      "cell_type": "markdown",
      "source": [
        "Actual lyrics : We don't need no education We don't need no thought control No dark sarcasm in the classroom Teacher, leave them kids"
      ],
      "metadata": {
        "id": "kdPXrdY04lV6"
      }
    },
    {
      "cell_type": "code",
      "source": [
        "complete_this_song(\"There's a party goin' on right here A celebration to last throughout the years So bring your good times and your laughter too\", 5)"
      ],
      "metadata": {
        "id": "jvIO6pduz6wB",
        "colab": {
          "base_uri": "https://localhost:8080/",
          "height": 35
        },
        "outputId": "b230fd9b-d628-4cef-f63a-d18b48ff75fb"
      },
      "execution_count": null,
      "outputs": [
        {
          "output_type": "execute_result",
          "data": {
            "text/plain": [
              "\"There's a party goin' on right here A celebration to last throughout the years So bring your good times and your laughter too we gonna celebrate and be\""
            ],
            "application/vnd.google.colaboratory.intrinsic+json": {
              "type": "string"
            }
          },
          "metadata": {},
          "execution_count": 17
        }
      ]
    },
    {
      "cell_type": "markdown",
      "source": [
        "Actual lyrics: There's a party goin' on right here A celebration to last throughout the years So bring your good times and your laughter too "
      ],
      "metadata": {
        "id": "ve_ULccO47JE"
      }
    },
    {
      "cell_type": "code",
      "source": [
        "complete_this_song(\"you have to believe you're magic. Nothin' can\", 3)"
      ],
      "metadata": {
        "id": "2dXlUCoX0HMY",
        "colab": {
          "base_uri": "https://localhost:8080/",
          "height": 35
        },
        "outputId": "2fa6a49a-5286-4ad5-ca78-2e90371d02d4"
      },
      "execution_count": null,
      "outputs": [
        {
          "output_type": "execute_result",
          "data": {
            "text/plain": [
              "\"you have to believe you're magic. Nothin' can stand in tucson\""
            ],
            "application/vnd.google.colaboratory.intrinsic+json": {
              "type": "string"
            }
          },
          "metadata": {},
          "execution_count": 18
        }
      ]
    },
    {
      "cell_type": "markdown",
      "source": [
        "\n",
        "Actual lyrics: you have to believe you're magic. Nothin' can stand in your way.\n"
      ],
      "metadata": {
        "id": "zNVwEnnS53TQ"
      }
    },
    {
      "cell_type": "code",
      "source": [
        "complete_this_song(\"peace and understanding. So everybody can be free I know that we\", 3)"
      ],
      "metadata": {
        "id": "TB5ziH_h0YxJ",
        "colab": {
          "base_uri": "https://localhost:8080/",
          "height": 35
        },
        "outputId": "a1b18b34-1e0b-424b-8c54-d3f66eeed51a"
      },
      "execution_count": null,
      "outputs": [
        {
          "output_type": "execute_result",
          "data": {
            "text/plain": [
              "'peace and understanding. So everybody can be free I know that we can sail you'"
            ],
            "application/vnd.google.colaboratory.intrinsic+json": {
              "type": "string"
            }
          },
          "metadata": {},
          "execution_count": 19
        }
      ]
    },
    {
      "cell_type": "markdown",
      "source": [
        "Actual text: peace and understanding. So everybody can be free I know that we can get together"
      ],
      "metadata": {
        "id": "9tK4Sf-M5LLU"
      }
    },
    {
      "cell_type": "code",
      "source": [
        "complete_this_song(\"been alone with you inside my mind. We are the one's\", 3)"
      ],
      "metadata": {
        "id": "h_T9f-OI0mUg",
        "colab": {
          "base_uri": "https://localhost:8080/",
          "height": 35
        },
        "outputId": "56d0c937-bb21-4307-d69e-ac9fad171325"
      },
      "execution_count": null,
      "outputs": [
        {
          "output_type": "execute_result",
          "data": {
            "text/plain": [
              "\"been alone with you inside my mind. We are the one's words to say\""
            ],
            "application/vnd.google.colaboratory.intrinsic+json": {
              "type": "string"
            }
          },
          "metadata": {},
          "execution_count": 20
        }
      ]
    },
    {
      "cell_type": "markdown",
      "source": [
        "Actual lyrics: been alone with you inside my mind. We are the one's who made a brighter day."
      ],
      "metadata": {
        "id": "04l1BXr75eQt"
      }
    },
    {
      "cell_type": "code",
      "source": [
        "from tensorflow.keras.models import load_model\n",
        "model.save('song_lyrics_generator.h5')\n"
      ],
      "metadata": {
        "id": "WHxN0ope8Vsf"
      },
      "execution_count": null,
      "outputs": []
    },
    {
      "cell_type": "markdown",
      "metadata": {
        "id": "MyI_KSZnootO"
      },
      "source": [
        "Plot loss and accuracy "
      ]
    },
    {
      "cell_type": "code",
      "execution_count": null,
      "metadata": {
        "id": "99KYltXqyLx8",
        "colab": {
          "base_uri": "https://localhost:8080/",
          "height": 295
        },
        "outputId": "133f6e65-37c9-45f2-e92b-edde42712290"
      },
      "outputs": [
        {
          "output_type": "display_data",
          "data": {
            "text/plain": [
              "<Figure size 432x288 with 1 Axes>"
            ],
            "image/png": "[encoded data removed]"
          },
          "metadata": {
            "needs_background": "light"
          }
        }
      ],
      "source": [
        "\n",
        "import matplotlib.pyplot as plt\n",
        "def plot_graph(history, string):\n",
        "  plt.plot(history.history[string])\n",
        "  plt.title(\"Model Evaluation\")\n",
        "  plt.xlabel(\"epochs\")\n",
        "  plt.ylabel(string)\n",
        "  plt.show\n",
        "plot_graph(history, 'accuracy')"
      ]
    },
    {
      "cell_type": "code",
      "execution_count": null,
      "metadata": {
        "id": "8vGg-oGJo1Wf",
        "colab": {
          "base_uri": "https://localhost:8080/",
          "height": 295
        },
        "outputId": "e27367fb-68d5-4d86-be23-000ba3599550"
      },
      "outputs": [
        {
          "output_type": "display_data",
          "data": {
            "text/plain": [
              "<Figure size 432x288 with 1 Axes>"
            ],
            "image/png": "[encoded data removed]"
          },
          "metadata": {
            "needs_background": "light"
          }
        }
      ],
      "source": [
        "plot_graph(history, \"loss\")"
      ]
    },
    {
      "cell_type": "markdown",
      "metadata": {
        "id": "OZHwmBBB1Rm3"
      },
      "source": [
        "We see from the plot that we are far from optimal. Many more epochs are going to be needed till the model converge. Due to limited GPU it was not possible to continue."
      ]
    }
  ],
  "metadata": {
    "accelerator": "GPU",
    "colab": {
      "collapsed_sections": [],
      "name": "NextWordPrediction_DeepLearning Assignment",
      "provenance": [],
      "authorship_tag": "ABX9TyOOL4mkrePEv3MVYkVhpscC",
      "include_colab_link": true
    },
    "gpuClass": "standard",
    "kernelspec": {
      "display_name": "Python 3",
      "name": "python3"
    },
    "language_info": {
      "name": "python"
    }
  },
  "nbformat": 4,
  "nbformat_minor": 0
}